{
 "cells": [
  {
   "cell_type": "code",
   "execution_count": 6,
   "metadata": {},
   "outputs": [
    {
     "name": "stdin",
     "output_type": "stream",
     "text": [
      " ABCDCDC\n",
      " CDC\n"
     ]
    },
    {
     "name": "stdout",
     "output_type": "stream",
     "text": [
      "['A', 'B', 'C']\n",
      "visited\n",
      "['B', 'C', 'D']\n",
      "visited\n",
      "['C', 'D', 'C']\n",
      "['D', 'C', 'D']\n",
      "visited\n",
      "['C', 'D', 'C']\n",
      "2\n"
     ]
    }
   ],
   "source": [
    "def count_substring(string, sub_string):\n",
    "    str1 = list(string)\n",
    "    sub1 = list(sub_string)\n",
    "    occ = 0\n",
    "    for i in range (0,1+len(str1)-len(sub1)):\n",
    "        temp_str = str1[i:i+len(sub1)]\n",
    "        print(temp_str)\n",
    "        chk = True\n",
    "        for j in range (0,len(sub1)):\n",
    "            if(temp_str[j] != sub1[j]):\n",
    "                chk = False\n",
    "                print(\"visited\")\n",
    "                break\n",
    "        if(chk):\n",
    "            occ +=1\n",
    "    \n",
    "    return occ\n",
    "\n",
    "if __name__ == '__main__':\n",
    "    string = input().strip()\n",
    "    sub_string = input().strip()\n",
    "    \n",
    "    count = count_substring(string, sub_string)\n",
    "    print(count)\n",
    "# ABCDCDC\n",
    "# CDC"
   ]
  },
  {
   "cell_type": "code",
   "execution_count": null,
   "metadata": {},
   "outputs": [],
   "source": []
  },
  {
   "cell_type": "code",
   "execution_count": null,
   "metadata": {},
   "outputs": [],
   "source": []
  },
  {
   "cell_type": "code",
   "execution_count": null,
   "metadata": {},
   "outputs": [],
   "source": []
  }
 ],
 "metadata": {
  "kernelspec": {
   "display_name": "Python 3",
   "language": "python",
   "name": "python3"
  },
  "language_info": {
   "codemirror_mode": {
    "name": "ipython",
    "version": 3
   },
   "file_extension": ".py",
   "mimetype": "text/x-python",
   "name": "python",
   "nbconvert_exporter": "python",
   "pygments_lexer": "ipython3",
   "version": "3.8.6"
  }
 },
 "nbformat": 4,
 "nbformat_minor": 4
}
