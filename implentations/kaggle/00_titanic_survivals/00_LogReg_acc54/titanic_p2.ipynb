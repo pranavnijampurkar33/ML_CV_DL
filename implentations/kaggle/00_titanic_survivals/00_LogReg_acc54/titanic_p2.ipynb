{
 "cells": [
  {
   "cell_type": "code",
   "execution_count": 23,
   "id": "eeb3c284-63f8-46f9-b61a-80f65039001a",
   "metadata": {},
   "outputs": [
    {
     "name": "stdout",
     "output_type": "stream",
     "text": [
      "<class 'pandas.core.frame.DataFrame'>\n",
      "RangeIndex: 891 entries, 0 to 890\n",
      "Data columns (total 7 columns):\n",
      " #   Column    Non-Null Count  Dtype  \n",
      "---  ------    --------------  -----  \n",
      " 0   Pclass    891 non-null    object \n",
      " 1   Sex       891 non-null    object \n",
      " 2   Age       714 non-null    float64\n",
      " 3   SibSp     891 non-null    int64  \n",
      " 4   Parch     891 non-null    int64  \n",
      " 5   Fare      891 non-null    float64\n",
      " 6   Embarked  889 non-null    object \n",
      "dtypes: float64(2), int64(2), object(3)\n",
      "memory usage: 48.9+ KB\n"
     ]
    },
    {
     "data": {
      "text/plain": [
       "(None,\n",
       "   Pclass     Sex   Age  SibSp  Parch     Fare Embarked\n",
       " 0     CC    male  22.0      1      0   7.2500        S\n",
       " 1     AC  female  38.0      1      0  71.2833        C\n",
       " 2     CC  female  26.0      0      0   7.9250        S\n",
       " 3     AC  female  35.0      1      0  53.1000        S\n",
       " 4     CC    male  35.0      0      0   8.0500        S)"
      ]
     },
     "execution_count": 23,
     "metadata": {},
     "output_type": "execute_result"
    }
   ],
   "source": [
    "import pandas as pd \n",
    "import numpy as np\n",
    "import seaborn as sns\n",
    "import matplotlib.pyplot as plt\n",
    "\n",
    "from sklearn.preprocessing import StandardScaler, OneHotEncoder\n",
    "\n",
    "train_data = pd.read_csv('./train.csv')\n",
    "test_data = pd.read_csv('./test.csv')\n",
    "\n",
    "# Get rid of columns that are not useful\n",
    "train_data.drop(columns= ['PassengerId', 'Name', 'Ticket', 'Cabin'], inplace = True)\n",
    "test_data.drop(columns= ['PassengerId', 'Name', 'Ticket', 'Cabin'], inplace = True)\n",
    "\n",
    "# Seperate X and y\n",
    "# store feature matrix in \"X\"\n",
    "X = train_data.iloc[:, 1:]   \n",
    "# store response vector in \"y\"\n",
    "y = train_data.iloc[:,0]    \n",
    "\n",
    "#converting integer classes to Letters and prepare for One Hot Encoding\n",
    "X['Pclass'] = X['Pclass'].map({1: 'AC', 2: 'BC', 3 : 'CC'})\n",
    "data_tr = X\n",
    "X.info(),X.head()"
   ]
  },
  {
   "cell_type": "code",
   "execution_count": 24,
   "id": "b5ddb65d-6acc-44b1-8797-02ccee40007f",
   "metadata": {},
   "outputs": [],
   "source": [
    "## Handling missing values\n",
    "from sklearn.impute import SimpleImputer\n",
    "\n",
    "imputer = SimpleImputer(strategy=\"median\")"
   ]
  },
  {
   "cell_type": "markdown",
   "id": "57445e03-8860-40ec-ae83-f589d80cf816",
   "metadata": {},
   "source": [
    "# Creating pipeline of the tasks"
   ]
  },
  {
   "cell_type": "code",
   "execution_count": 25,
   "id": "fda6c288-4b52-4284-b421-a3016253379d",
   "metadata": {},
   "outputs": [
    {
     "data": {
      "text/plain": [
       "(Age      22.00\n",
       " SibSp     1.00\n",
       " Parch     0.00\n",
       " Fare      7.25\n",
       " Name: 0, dtype: float64,\n",
       " array([-0.56573646,  0.43279337, -0.47367361, -0.50244517]))"
      ]
     },
     "execution_count": 25,
     "metadata": {},
     "output_type": "execute_result"
    }
   ],
   "source": [
    "## Using Pipeline class\n",
    "from sklearn.pipeline import Pipeline\n",
    "## Using StandardScaler to scale all the numerical attributes\n",
    "from sklearn.preprocessing import StandardScaler\n",
    "\n",
    "numerics = ['float64', 'int64']\n",
    "num_data = data_tr.select_dtypes(include=numerics)\n",
    "\n",
    "## pipeline for numerical attributes\n",
    "## imputing -> Scale them\n",
    "\n",
    "num_pipeline = Pipeline([\n",
    "    ('imputer', SimpleImputer(strategy='median')),\n",
    "    ('std_scalar', StandardScaler()),\n",
    "])\n",
    "\n",
    "num_data_tr = num_pipeline.fit_transform(num_data)\n",
    "num_data.iloc[0],num_data_tr[0]"
   ]
  },
  {
   "cell_type": "code",
   "execution_count": 26,
   "id": "538f1fb7-bbee-4e50-b62e-86a859158000",
   "metadata": {},
   "outputs": [
    {
     "data": {
      "text/plain": [
       "(Age      38.0000\n",
       " SibSp     1.0000\n",
       " Parch     0.0000\n",
       " Fare     71.2833\n",
       " Name: 1, dtype: float64,\n",
       " array([ 0.66386103,  0.43279337, -0.47367361,  0.78684529]))"
      ]
     },
     "execution_count": 26,
     "metadata": {},
     "output_type": "execute_result"
    }
   ],
   "source": [
    "num_data.iloc[1],num_data_tr[1]"
   ]
  },
  {
   "cell_type": "markdown",
   "id": "710e2a77-e878-42ed-9b69-8ff0b171c3a3",
   "metadata": {},
   "source": [
    "# Transforming Numerical and Categorical Attributes"
   ]
  },
  {
   "cell_type": "code",
   "execution_count": 29,
   "id": "12086191-d9bc-4636-b366-d744609bac1a",
   "metadata": {},
   "outputs": [
    {
     "data": {
      "text/plain": [
       "array([-0.56573646,  0.43279337, -0.47367361, -0.50244517,  0.        ,\n",
       "        0.        ,  1.        ,  0.        ,  1.        ,  0.        ,\n",
       "        0.        ,  1.        ,  0.        ])"
      ]
     },
     "execution_count": 29,
     "metadata": {},
     "output_type": "execute_result"
    }
   ],
   "source": [
    "## Transform different columns or subsets using ColumnColumnTransformer\n",
    "from sklearn.compose import ColumnTransformer\n",
    "\n",
    "num_attrs = list(num_data)\n",
    "cat_attrs = ['Pclass',\"Sex\",\"Embarked\"]\n",
    "\n",
    "## Complete pipeline to transform\n",
    "## both Num and Cat attributes\n",
    "full_pipeline = ColumnTransformer([\n",
    "    (\"num\", num_pipeline, num_attrs),\n",
    "    (\"cat\", OneHotEncoder(), cat_attrs),\n",
    "])\n",
    "prepared_data = full_pipeline.fit_transform(X)\n",
    "prepared_data[0]"
   ]
  }
 ],
 "metadata": {
  "kernelspec": {
   "display_name": "Python 3",
   "language": "python",
   "name": "python3"
  },
  "language_info": {
   "codemirror_mode": {
    "name": "ipython",
    "version": 3
   },
   "file_extension": ".py",
   "mimetype": "text/x-python",
   "name": "python",
   "nbconvert_exporter": "python",
   "pygments_lexer": "ipython3",
   "version": "3.8.10"
  }
 },
 "nbformat": 4,
 "nbformat_minor": 5
}
