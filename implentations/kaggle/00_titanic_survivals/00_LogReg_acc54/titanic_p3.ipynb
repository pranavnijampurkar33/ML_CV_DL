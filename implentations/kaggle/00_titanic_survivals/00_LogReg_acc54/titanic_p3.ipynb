{
 "cells": [
  {
   "cell_type": "code",
   "execution_count": 226,
   "id": "013411cc-66a1-4f13-a6ce-f67b4d53015a",
   "metadata": {},
   "outputs": [
    {
     "name": "stdout",
     "output_type": "stream",
     "text": [
      "<class 'pandas.core.frame.DataFrame'>\n",
      "RangeIndex: 891 entries, 0 to 890\n",
      "Data columns (total 7 columns):\n",
      " #   Column    Non-Null Count  Dtype  \n",
      "---  ------    --------------  -----  \n",
      " 0   Pclass    891 non-null    int64  \n",
      " 1   Sex       891 non-null    object \n",
      " 2   Age       714 non-null    float64\n",
      " 3   SibSp     891 non-null    int64  \n",
      " 4   Parch     891 non-null    int64  \n",
      " 5   Fare      891 non-null    float64\n",
      " 6   Embarked  889 non-null    object \n",
      "dtypes: float64(2), int64(3), object(2)\n",
      "memory usage: 48.9+ KB\n"
     ]
    },
    {
     "data": {
      "text/plain": [
       "(None,\n",
       "    Pclass     Sex   Age  SibSp  Parch     Fare Embarked\n",
       " 0       3    male  22.0      1      0   7.2500        S\n",
       " 1       1  female  38.0      1      0  71.2833        C\n",
       " 2       3  female  26.0      0      0   7.9250        S\n",
       " 3       1  female  35.0      1      0  53.1000        S\n",
       " 4       3    male  35.0      0      0   8.0500        S)"
      ]
     },
     "execution_count": 226,
     "metadata": {},
     "output_type": "execute_result"
    }
   ],
   "source": [
    "##importing a few general use case libraries\n",
    "import numpy as np\n",
    "import pandas as pd\n",
    "import matplotlib.pyplot as plt\n",
    "import seaborn as sns\n",
    "\n",
    "from sklearn.model_selection import StratifiedShuffleSplit\n",
    "from sklearn.base import BaseEstimator, TransformerMixin\n",
    "from sklearn.pipeline import Pipeline\n",
    "\n",
    "from sklearn.impute import SimpleImputer\n",
    "from sklearn.preprocessing import StandardScaler, OneHotEncoder\n",
    "from sklearn.compose import ColumnTransformer\n",
    "\n",
    "import warnings\n",
    "warnings.filterwarnings('ignore')\n",
    "\n",
    "train_data = pd.read_csv('./train.csv')\n",
    "test_data = pd.read_csv('./test.csv')\n",
    "gender_submission = pd.read_csv('./gender_submission.csv')\n",
    "test_labels = gender_submission['Survived']\n",
    "\n",
    "test_data_passenderIds = test_data['PassengerId']\n",
    "\n",
    "# Get rid of columns that are not useful\n",
    "train_data.drop(columns= ['PassengerId', 'Name', 'Ticket', 'Cabin'], inplace = True)\n",
    "test_data.drop(columns= ['PassengerId', 'Name', 'Ticket', 'Cabin'], inplace = True)\n",
    "\n",
    "# Seperate X and y\n",
    "# store feature matrix in \"X\"\n",
    "X = train_data.iloc[:, 1:]   \n",
    "# store response vector in \"y\"\n",
    "y = train_data.iloc[:,0]    \n",
    "\n",
    "X.info(),X.head()"
   ]
  },
  {
   "cell_type": "code",
   "execution_count": 227,
   "id": "358930f0-9e42-4404-b362-4c28fea61170",
   "metadata": {},
   "outputs": [
    {
     "data": {
      "text/plain": [
       "Pclass         3\n",
       "Sex         male\n",
       "Age         22.0\n",
       "SibSp          1\n",
       "Parch          0\n",
       "Fare        7.25\n",
       "Embarked       S\n",
       "Name: 0, dtype: object"
      ]
     },
     "execution_count": 227,
     "metadata": {},
     "output_type": "execute_result"
    }
   ],
   "source": [
    "X.iloc[0]"
   ]
  },
  {
   "cell_type": "code",
   "execution_count": 228,
   "id": "bccbf3ff-68cd-4936-b670-32366115a07e",
   "metadata": {},
   "outputs": [],
   "source": [
    "## Preprocess the PClass column \n",
    "def preprocess_pclass_cols(df):\n",
    "    #converting integer classes to Letters and prepare for One Hot Encoding\n",
    "    df['Pclass'] = df['Pclass'].map({1: 'AC', 2: 'BC', 3 : 'CC'})\n",
    "    return df"
   ]
  },
  {
   "cell_type": "code",
   "execution_count": 229,
   "id": "bfc4359c-6adb-4f64-b41b-783e8cb1d3a5",
   "metadata": {},
   "outputs": [],
   "source": [
    "def num_pipeline_transformer(data):\n",
    "    '''\n",
    "    Function to process numerical transformations\n",
    "    Argument:\n",
    "        data: original dataframe \n",
    "    Returns:\n",
    "        num_attrs: numerical dataframe\n",
    "        num_pipeline: numerical pipeline object\n",
    "        \n",
    "    '''\n",
    "    numerics = ['float64', 'int64']\n",
    "    num_attrs = data.select_dtypes(include=numerics)\n",
    "\n",
    "    ## pipeline for numerical attributes\n",
    "    ## imputing -> Scale them\n",
    "\n",
    "    num_pipeline = Pipeline([\n",
    "        ('imputer', SimpleImputer(strategy='median')),\n",
    "        ('std_scalar', StandardScaler()),\n",
    "    ])\n",
    "    return num_attrs, num_pipeline\n",
    "\n",
    "def pipeline_transformer(data):\n",
    "    '''\n",
    "    Complete transformation pipeline for both\n",
    "    nuerical and categorical data.\n",
    "    \n",
    "    Argument:\n",
    "        data: original dataframe \n",
    "    Returns:\n",
    "        prepared_data: transformed data, ready to use\n",
    "    '''\n",
    "    cat_attrs = ['Pclass',\"Sex\",\"Embarked\"]\n",
    "    num_attrs, num_pipeline = num_pipeline_transformer(data)\n",
    "    ## Complete pipeline to transform\n",
    "    ## both Num and Cat attributes\n",
    "    full_pipeline = ColumnTransformer([\n",
    "        (\"num\", num_pipeline, list(num_attrs)),\n",
    "        (\"cat\", OneHotEncoder(), cat_attrs),\n",
    "    ])\n",
    "    prepared_data = full_pipeline.fit_transform(data)\n",
    "    return prepared_data"
   ]
  },
  {
   "cell_type": "markdown",
   "id": "c432d218-bd04-4997-a5e2-892057c8c12d",
   "metadata": {},
   "source": [
    "# From raw data to processed data in 2 steps"
   ]
  },
  {
   "cell_type": "code",
   "execution_count": 230,
   "id": "512cbede-2611-4be2-bbdd-8cce3cd097c7",
   "metadata": {},
   "outputs": [
    {
     "data": {
      "text/plain": [
       "(array([[-0.56573646,  0.43279337, -0.47367361, ...,  0.        ,\n",
       "          1.        ,  0.        ],\n",
       "        [ 0.66386103,  0.43279337, -0.47367361, ...,  0.        ,\n",
       "          0.        ,  0.        ],\n",
       "        [-0.25833709, -0.4745452 , -0.47367361, ...,  0.        ,\n",
       "          1.        ,  0.        ],\n",
       "        ...,\n",
       "        [-0.1046374 ,  0.43279337,  2.00893337, ...,  0.        ,\n",
       "          1.        ,  0.        ],\n",
       "        [-0.25833709, -0.4745452 , -0.47367361, ...,  0.        ,\n",
       "          0.        ,  0.        ],\n",
       "        [ 0.20276197, -0.4745452 , -0.47367361, ...,  1.        ,\n",
       "          0.        ,  0.        ]]),\n",
       " Pclass        CC\n",
       " Sex         male\n",
       " Age         22.0\n",
       " SibSp          1\n",
       " Parch          0\n",
       " Fare        7.25\n",
       " Embarked       S\n",
       " Name: 0, dtype: object)"
      ]
     },
     "execution_count": 230,
     "metadata": {},
     "output_type": "execute_result"
    }
   ],
   "source": [
    "## From raw data to processed data in 2 steps\n",
    "preprocessed_df = preprocess_pclass_cols(X)\n",
    "prepared_data = pipeline_transformer(X)\n",
    "prepared_data,X.iloc[0]"
   ]
  },
  {
   "cell_type": "code",
   "execution_count": 231,
   "id": "8434df02-3a1c-47a2-b0d2-d7cce507eb14",
   "metadata": {},
   "outputs": [
    {
     "data": {
      "text/plain": [
       "array([-0.56573646,  0.43279337, -0.47367361, -0.50244517,  0.        ,\n",
       "        0.        ,  1.        ,  0.        ,  1.        ,  0.        ,\n",
       "        0.        ,  1.        ,  0.        ])"
      ]
     },
     "execution_count": 231,
     "metadata": {},
     "output_type": "execute_result"
    }
   ],
   "source": [
    "prepared_data[0]"
   ]
  },
  {
   "cell_type": "markdown",
   "id": "00146c3a-ef42-4684-ad52-412256771e82",
   "metadata": {},
   "source": [
    "# Training the Logistic Regression model on the Training set"
   ]
  },
  {
   "cell_type": "code",
   "execution_count": 232,
   "id": "ef7ba94e-e5a2-46ad-a649-f30d81e94608",
   "metadata": {},
   "outputs": [
    {
     "data": {
      "text/plain": [
       "LogisticRegression(random_state=0)"
      ]
     },
     "execution_count": 232,
     "metadata": {},
     "output_type": "execute_result"
    }
   ],
   "source": [
    "from sklearn.linear_model import LogisticRegression\n",
    "classifier = LogisticRegression(random_state=0)\n",
    "classifier.fit(prepared_data,y)"
   ]
  },
  {
   "cell_type": "code",
   "execution_count": 233,
   "id": "4e77f546-1640-468a-96ee-59aa6ac3bf53",
   "metadata": {},
   "outputs": [
    {
     "name": "stdout",
     "output_type": "stream",
     "text": [
      "Prediction on Sample data :  [0 1 1 1 0]\n",
      "Actual Labels :  [0 1 1 1 0]\n"
     ]
    }
   ],
   "source": [
    "sample_data = X.iloc[:]\n",
    "sample_labels = y.iloc[:]\n",
    "sample_data_prepared = pipeline_transformer(sample_data)\n",
    "train_pred = classifier.predict(sample_data_prepared)\n",
    "print(\"Prediction on Sample data : \", train_pred[:5])\n",
    "print(\"Actual Labels : \",np.array(sample_labels[:5]))"
   ]
  },
  {
   "cell_type": "markdown",
   "id": "a1ff6418-9d5f-4a59-bd7c-c450be6ce603",
   "metadata": {},
   "source": [
    "# Making the Confusion Matrix"
   ]
  },
  {
   "cell_type": "code",
   "execution_count": 234,
   "id": "5cc0c78c-cde0-4361-a62c-bf101e7ec864",
   "metadata": {},
   "outputs": [
    {
     "name": "stdout",
     "output_type": "stream",
     "text": [
      "[[478  71]\n",
      " [102 240]]\n"
     ]
    },
    {
     "data": {
      "text/plain": [
       "0.8058361391694725"
      ]
     },
     "execution_count": 234,
     "metadata": {},
     "output_type": "execute_result"
    }
   ],
   "source": [
    "from sklearn.metrics import confusion_matrix, accuracy_score\n",
    "cm = confusion_matrix(sample_labels, train_pred)\n",
    "print(cm)\n",
    "accuracy_score(sample_labels, train_pred)"
   ]
  },
  {
   "cell_type": "code",
   "execution_count": 235,
   "id": "fc5118bd-d7d2-48ba-bcee-3511f0a6824f",
   "metadata": {},
   "outputs": [
    {
     "data": {
      "text/plain": [
       "Pclass       0\n",
       "Sex          0\n",
       "Age         86\n",
       "SibSp        0\n",
       "Parch        0\n",
       "Fare         1\n",
       "Embarked     0\n",
       "dtype: int64"
      ]
     },
     "execution_count": 235,
     "metadata": {},
     "output_type": "execute_result"
    }
   ],
   "source": [
    "test_data.isnull().sum()"
   ]
  },
  {
   "cell_type": "code",
   "execution_count": 236,
   "id": "9a5fbe7b-ca2e-433d-9877-c59e833f5200",
   "metadata": {},
   "outputs": [
    {
     "name": "stdout",
     "output_type": "stream",
     "text": [
      "Prediction on Sample data :  [1 0 0 1 0]\n",
      "Actual Labels :  [0 1 0 0 1]\n"
     ]
    }
   ],
   "source": [
    "test_data_prepared = pipeline_transformer(test_data)\n",
    "test_pred = classifier.predict(test_data_prepared)\n",
    "print(\"Prediction on Sample data : \", test_pred[:5])\n",
    "print(\"Actual Labels : \",np.array(test_labels[:5]))"
   ]
  },
  {
   "cell_type": "code",
   "execution_count": 237,
   "id": "9f08b7e0-0aba-40b6-a057-2889c5625549",
   "metadata": {},
   "outputs": [
    {
     "name": "stdout",
     "output_type": "stream",
     "text": [
      "[[ 58 208]\n",
      " [106  46]]\n"
     ]
    },
    {
     "data": {
      "text/plain": [
       "0.24880382775119617"
      ]
     },
     "execution_count": 237,
     "metadata": {},
     "output_type": "execute_result"
    }
   ],
   "source": [
    "from sklearn.metrics import confusion_matrix, accuracy_score\n",
    "cm = confusion_matrix(test_labels, test_pred)\n",
    "print(cm)\n",
    "accuracy_score(test_labels, test_pred)"
   ]
  },
  {
   "cell_type": "code",
   "execution_count": 238,
   "id": "5f6128cb-cb1b-4d42-844b-9e5470f40ede",
   "metadata": {},
   "outputs": [],
   "source": [
    "file_name = \"out.csv\"\n",
    "\n",
    "with open('output/'+file_name,'w') as f:\n",
    "    f.write('{0},{1}\\n'.format(\"PassengerId\", \"Survived\"))\n",
    "    for p,s in zip(test_data_passenderIds, y_pred):\n",
    "        f.write('{0},{1}\\n'.format(p, s))"
   ]
  },
  {
   "cell_type": "code",
   "execution_count": null,
   "id": "4e6fe87e-e377-487d-81d9-bcaa91b4d023",
   "metadata": {},
   "outputs": [],
   "source": []
  }
 ],
 "metadata": {
  "kernelspec": {
   "display_name": "Python 3",
   "language": "python",
   "name": "python3"
  },
  "language_info": {
   "codemirror_mode": {
    "name": "ipython",
    "version": 3
   },
   "file_extension": ".py",
   "mimetype": "text/x-python",
   "name": "python",
   "nbconvert_exporter": "python",
   "pygments_lexer": "ipython3",
   "version": "3.8.10"
  }
 },
 "nbformat": 4,
 "nbformat_minor": 5
}
