{
 "cells": [
  {
   "cell_type": "code",
   "execution_count": null,
   "id": "eeb3c284-63f8-46f9-b61a-80f65039001a",
   "metadata": {},
   "outputs": [],
   "source": [
    "import pandas as pd \n",
    "import numpy as np\n",
    "import seaborn as sns\n",
    "import matplotlib.pyplot as plt\n",
    "\n",
    "train_data = pd.read_csv('./train.csv')\n",
    "test_data = pd.read_csv('./test.csv')\n",
    "\n",
    "# Get rid of columns that are not useful\n",
    "train_data.drop(columns= ['PassengerId', 'Name', 'Ticket', 'Cabin'], inplace = True)\n",
    "test_data.drop(columns= ['PassengerId', 'Name', 'Ticket', 'Cabin'], inplace = True)\n",
    "\n",
    "# Seperate X and y\n",
    "# store feature matrix in \"X\"\n",
    "X = train_data.iloc[:, 1:]   \n",
    "\n",
    "# store response vector in \"y\"\n",
    "y = train_data.iloc[:,0]    \n",
    "\n",
    "## imputing the values with median\n",
    "median = X['Age'].median()\n",
    "X['Age'] = X['Age'].fillna(median)\n",
    "X.info()\n",
    "\n",
    "# filling with most common class in missing embarked class\n",
    "X = X.apply(lambda x: x.fillna(x.value_counts().index[0]))\n",
    "X.info()"
   ]
  }
 ],
 "metadata": {
  "kernelspec": {
   "display_name": "Python 3",
   "language": "python",
   "name": "python3"
  },
  "language_info": {
   "codemirror_mode": {
    "name": "ipython",
    "version": 3
   },
   "file_extension": ".py",
   "mimetype": "text/x-python",
   "name": "python",
   "nbconvert_exporter": "python",
   "pygments_lexer": "ipython3",
   "version": "3.8.10"
  }
 },
 "nbformat": 4,
 "nbformat_minor": 5
}
