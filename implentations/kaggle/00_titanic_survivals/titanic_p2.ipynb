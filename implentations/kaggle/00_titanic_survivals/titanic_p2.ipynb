{
 "cells": [
  {
   "cell_type": "code",
   "execution_count": 11,
   "id": "eeb3c284-63f8-46f9-b61a-80f65039001a",
   "metadata": {},
   "outputs": [
    {
     "name": "stdout",
     "output_type": "stream",
     "text": [
      "<class 'pandas.core.frame.DataFrame'>\n",
      "RangeIndex: 891 entries, 0 to 890\n",
      "Data columns (total 7 columns):\n",
      " #   Column    Non-Null Count  Dtype  \n",
      "---  ------    --------------  -----  \n",
      " 0   Pclass    891 non-null    object \n",
      " 1   Sex       891 non-null    object \n",
      " 2   Age       891 non-null    float64\n",
      " 3   SibSp     891 non-null    int64  \n",
      " 4   Parch     891 non-null    int64  \n",
      " 5   Fare      891 non-null    float64\n",
      " 6   Embarked  891 non-null    object \n",
      "dtypes: float64(2), int64(2), object(3)\n",
      "memory usage: 48.9+ KB\n"
     ]
    },
    {
     "data": {
      "text/plain": [
       "(None,\n",
       "   Pclass     Sex   Age  SibSp  Parch     Fare Embarked\n",
       " 0     CC    male  22.0      1      0   7.2500        S\n",
       " 1     AC  female  38.0      1      0  71.2833        C\n",
       " 2     CC  female  26.0      0      0   7.9250        S\n",
       " 3     AC  female  35.0      1      0  53.1000        S\n",
       " 4     CC    male  35.0      0      0   8.0500        S)"
      ]
     },
     "execution_count": 11,
     "metadata": {},
     "output_type": "execute_result"
    }
   ],
   "source": [
    "import pandas as pd \n",
    "import numpy as np\n",
    "import seaborn as sns\n",
    "import matplotlib.pyplot as plt\n",
    "\n",
    "train_data = pd.read_csv('./train.csv')\n",
    "test_data = pd.read_csv('./test.csv')\n",
    "\n",
    "# Get rid of columns that are not useful\n",
    "train_data.drop(columns= ['PassengerId', 'Name', 'Ticket', 'Cabin'], inplace = True)\n",
    "test_data.drop(columns= ['PassengerId', 'Name', 'Ticket', 'Cabin'], inplace = True)\n",
    "\n",
    "# Seperate X and y\n",
    "# store feature matrix in \"X\"\n",
    "X = train_data.iloc[:, 1:]   \n",
    "\n",
    "# store response vector in \"y\"\n",
    "y = train_data.iloc[:,0]    \n",
    "\n",
    "## imputing the values with median\n",
    "median = X['Age'].median()\n",
    "X['Age'] = X['Age'].fillna(median)\n",
    "\n",
    "# filling with most common class in missing embarked class\n",
    "X = X.apply(lambda x: x.fillna(x.value_counts().index[0]))\n",
    "\n",
    "#converting integer classes to Letters and prepare for One Hot Encoding\n",
    "X['Pclass'] = X['Pclass'].map({1: 'AC', 2: 'BC', 3 : 'CC'})\n",
    "data_tr = X\n",
    "X.info(),X.head()"
   ]
  },
  {
   "cell_type": "code",
   "execution_count": 12,
   "id": "b5ddb65d-6acc-44b1-8797-02ccee40007f",
   "metadata": {},
   "outputs": [],
   "source": [
    "## Handling missing values\n",
    "from sklearn.impute import SimpleImputer\n",
    "\n",
    "imputer = SimpleImputer(strategy=\"median\")"
   ]
  },
  {
   "cell_type": "markdown",
   "id": "57445e03-8860-40ec-ae83-f589d80cf816",
   "metadata": {},
   "source": [
    "# Creating pipeline of the tasks"
   ]
  },
  {
   "cell_type": "code",
   "execution_count": null,
   "id": "fda6c288-4b52-4284-b421-a3016253379d",
   "metadata": {},
   "outputs": [],
   "source": [
    "## Using Pipeline class\n",
    "from sklearn.pipeline import Pipeline\n",
    "## Using StandardScaler to scale all the numerical attributes\n",
    "from sklearn.preprocessing import StandardScaler\n",
    "\n",
    "numerics = ['float64', 'int64']\n",
    "num_data = data_tr.select_dtypes(include=numerics)\n",
    "\n",
    "## pipeline for numerical attributes\n",
    "## imputing -> Scale them\n",
    "\n",
    "num_pipeline = Pipeline"
   ]
  }
 ],
 "metadata": {
  "kernelspec": {
   "display_name": "Python 3",
   "language": "python",
   "name": "python3"
  },
  "language_info": {
   "codemirror_mode": {
    "name": "ipython",
    "version": 3
   },
   "file_extension": ".py",
   "mimetype": "text/x-python",
   "name": "python",
   "nbconvert_exporter": "python",
   "pygments_lexer": "ipython3",
   "version": "3.8.10"
  }
 },
 "nbformat": 4,
 "nbformat_minor": 5
}
