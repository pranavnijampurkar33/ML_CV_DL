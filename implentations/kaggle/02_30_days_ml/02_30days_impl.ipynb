{
 "cells": [
  {
   "cell_type": "markdown",
   "id": "ee6a3691-76ca-4440-9c7e-48fabf26a99f",
   "metadata": {},
   "source": [
    "# 02_30days_impl\n",
    "## XGBOOST\n",
    "[Kaggle](https://www.kaggle.com/yugpuroosh/02-30days-impl/edit)"
   ]
  },
  {
   "cell_type": "code",
   "execution_count": 1,
   "id": "1c34686d-a225-431d-ac7f-2953722660df",
   "metadata": {},
   "outputs": [],
   "source": [
    "import pandas as pd\n",
    "import numpy as np\n",
    "from sklearn.preprocessing import OrdinalEncoder\n",
    "from sklearn.model_selection import train_test_split\n",
    "from sklearn.ensemble import RandomForestRegressor\n",
    "from sklearn.metrics import mean_squared_error\n",
    "from xgboost import XGBRegressor"
   ]
  },
  {
   "cell_type": "markdown",
   "id": "c5f1fb42-b2f0-4e30-845e-569a5bd1ef7e",
   "metadata": {},
   "source": [
    "## Read data \n",
    "* train-> train_folds from 01_create_folds.csv"
   ]
  },
  {
   "cell_type": "code",
   "execution_count": 2,
   "id": "55fd311c-9cb5-4669-9593-b2ddd329760a",
   "metadata": {},
   "outputs": [],
   "source": [
    "df = pd.read_csv(\"train_folds.csv\")\n",
    "df_test = pd.read_csv(\"test.csv\")\n",
    "sample_submission = pd.read_csv(\"sample_submission.csv\")"
   ]
  },
  {
   "cell_type": "markdown",
   "id": "fbeb7809-60ac-461f-9cbb-90b63b90168d",
   "metadata": {},
   "source": [
    "## Extract the Useful data to use"
   ]
  },
  {
   "cell_type": "code",
   "execution_count": 3,
   "id": "43c19040-f3a4-43f1-8d97-3ca6c2069f95",
   "metadata": {},
   "outputs": [],
   "source": [
    "useful_features = [c for c in df.columns if c not in (\"id\", \"target\", \"kfold\")]\n",
    "object_cols = [col for col in useful_features if 'cat' in col]\n",
    "df_test = df_test[useful_features]"
   ]
  },
  {
   "cell_type": "code",
   "execution_count": 4,
   "id": "0fa8a035-feec-4b48-ba1f-b7aef6fd41ba",
   "metadata": {},
   "outputs": [],
   "source": [
    "#useful_features"
   ]
  },
  {
   "cell_type": "markdown",
   "id": "c116a977-d2a2-46ee-9f4f-ac12c1c0cd4a",
   "metadata": {},
   "source": [
    "## Training "
   ]
  },
  {
   "cell_type": "code",
   "execution_count": 9,
   "id": "c8f9ef9f-4015-4e49-a621-cc37ba6da2b3",
   "metadata": {},
   "outputs": [
    {
     "name": "stdout",
     "output_type": "stream",
     "text": [
      "Encoding\n",
      "Training\n",
      "0 0.7245705663260308\n",
      "Encoding\n",
      "Training\n",
      "1 0.7242510273681103\n",
      "Encoding\n",
      "Training\n",
      "2 0.7259641932945686\n",
      "Encoding\n",
      "Training\n",
      "3 0.7268360796234034\n",
      "Encoding\n",
      "Training\n",
      "4 0.7256291107684966\n"
     ]
    }
   ],
   "source": [
    "final_prediction = []\n",
    "for fold in range(5):\n",
    "    xtrain = df[df.kfold != fold].reset_index(drop = True)\n",
    "    xvalid = df[df.kfold == fold].reset_index(drop = True)\n",
    "    xtest = df_test.copy()\n",
    "    \n",
    "    ytrain = xtrain.target\n",
    "    yvalid = xvalid.target\n",
    "    \n",
    "    xtrain = xtrain[useful_features]\n",
    "    xvalid = xvalid[useful_features]\n",
    "    \n",
    "    # ENCODING\n",
    "    print(\"Encoding\")\n",
    "    ordinal_encoder = OrdinalEncoder()\n",
    "    xtrain[object_cols] = ordinal_encoder.fit_transform(xtrain[object_cols])\n",
    "    xvalid[object_cols] = ordinal_encoder.transform(xvalid[object_cols])\n",
    "    xtest[object_cols] = ordinal_encoder.transform(xtest[object_cols])\n",
    "    \n",
    "    TREE_METHOD = 'gpu_hist'\n",
    "    params = {'tree_method': TREE_METHOD}\n",
    "    # TRAINING\n",
    "    print(\"Training\")\n",
    "    model = XGBRegressor(tree_method = \"gpu_hist\",random_state = fold, n_jobs = 6)\n",
    "    model.fit(xtrain, ytrain)\n",
    "    preds_valid = model.predict(xvalid)\n",
    "    test_preds = model.predict(xtest)\n",
    "    final_prediction.append(test_preds)\n",
    "    print(fold, mean_squared_error(yvalid, preds_valid, squared=False))"
   ]
  },
  {
   "cell_type": "code",
   "execution_count": 10,
   "id": "3553d0d3-e586-4cc7-828f-869da42a30d4",
   "metadata": {},
   "outputs": [],
   "source": [
    "preds = np.mean(np.column_stack(final_prediction), axis = 1)"
   ]
  },
  {
   "cell_type": "code",
   "execution_count": 12,
   "id": "34fff556-655a-4b67-94c5-9c2b2fd57368",
   "metadata": {},
   "outputs": [],
   "source": [
    "sample_submission.target = preds\n",
    "sample_submission.to_csv(\"submission.csv\", index = False)"
   ]
  },
  {
   "cell_type": "code",
   "execution_count": null,
   "id": "85d95e22-9727-4332-9fb4-4cb13c260f66",
   "metadata": {},
   "outputs": [],
   "source": []
  }
 ],
 "metadata": {
  "kernelspec": {
   "display_name": "Python 3",
   "language": "python",
   "name": "python3"
  },
  "language_info": {
   "codemirror_mode": {
    "name": "ipython",
    "version": 3
   },
   "file_extension": ".py",
   "mimetype": "text/x-python",
   "name": "python",
   "nbconvert_exporter": "python",
   "pygments_lexer": "ipython3",
   "version": "3.8.10"
  }
 },
 "nbformat": 4,
 "nbformat_minor": 5
}
