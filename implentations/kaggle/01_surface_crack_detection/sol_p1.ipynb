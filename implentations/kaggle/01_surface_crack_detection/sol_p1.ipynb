{
 "cells": [
  {
   "cell_type": "markdown",
   "metadata": {},
   "source": [
    "**** CREDITS: ****\n",
    "\n",
    "https://www.youtube.com/watch?v=eaa-7HLcAnQ\n",
    "    \n",
    "https://www.kaggle.com/gcdatkin/concrete-crack-image-detection"
   ]
  },
  {
   "cell_type": "code",
   "execution_count": 1,
   "metadata": {
    "_cell_guid": "b1076dfc-b9ad-4769-8c92-a6c4dae69d19",
    "_uuid": "8f2839f25d086af736a60e9eeb907d3b93b6e0e5",
    "tags": []
   },
   "outputs": [
    {
     "name": "stdout",
     "output_type": "stream",
     "text": [
      "INFO:tensorflow:Enabling eager execution\n",
      "INFO:tensorflow:Enabling v2 tensorshape\n",
      "INFO:tensorflow:Enabling resource variables\n",
      "INFO:tensorflow:Enabling tensor equality\n",
      "INFO:tensorflow:Enabling control flow v2\n"
     ]
    }
   ],
   "source": [
    "# This Python 3 environment comes with many helpful analytics libraries installed\n",
    "# It is defined by the kaggle/python Docker image: https://github.com/kaggle/docker-python\n",
    "# For example, here's several helpful packages to load\n",
    "\n",
    "import numpy as np # linear algebra\n",
    "import pandas as pd # data processing, CSV file I/O (e.g. pd.read_csv)\n",
    "\n",
    "import matplotlib.pyplot as plt\n",
    "import seaborn as sns\n",
    "import plotly.express as px\n",
    "\n",
    "from pathlib import Path\n",
    "from sklearn.model_selection import train_test_split\n",
    "\n",
    "import tensorflow as tf\n",
    "\n",
    "from sklearn.metrics import confusion_matrix, classification_report"
   ]
  },
  {
   "cell_type": "code",
   "execution_count": 2,
   "metadata": {
    "tags": []
   },
   "outputs": [],
   "source": [
    "positive_dir = Path('/home/pratham/study/input_data/kaggle_surface_crack_detection/Positive/')\n",
    "negative_dir = Path('/home/pratham/study/input_data/kaggle_surface_crack_detection/Negative/')"
   ]
  },
  {
   "cell_type": "markdown",
   "metadata": {},
   "source": [
    "# Creating DataFrames"
   ]
  },
  {
   "cell_type": "code",
   "execution_count": 3,
   "metadata": {
    "tags": []
   },
   "outputs": [],
   "source": [
    "import os.path"
   ]
  },
  {
   "cell_type": "code",
   "execution_count": 4,
   "metadata": {
    "tags": []
   },
   "outputs": [],
   "source": [
    "#list(map(lambda x : os.path.split(x)[0], list(positive_dir.glob(r'*.jpg')))) => File Path\n",
    "#list(map(lambda x : os.path.split(x)[1], list(positive_dir.glob(r'*.jpg')))) => File names \n",
    "#list(map(lambda x : os.path.split(x), list(positive_dir.glob(r'*.jpg')))) => File Path , File names \n",
    "#list(positive_dir.glob(r'*.jpg'))"
   ]
  },
  {
   "cell_type": "code",
   "execution_count": 5,
   "metadata": {
    "tags": []
   },
   "outputs": [],
   "source": [
    "def generate_df(image_dir, label):\n",
    "    filepaths = pd.Series(list(image_dir.glob(r'*.jpg')), name='Filepath').astype(str)\n",
    "    labels = pd.Series(label, name='Label', index=filepaths.index)\n",
    "    df = pd.concat([filepaths, labels], axis=1)\n",
    "    return df"
   ]
  },
  {
   "cell_type": "code",
   "execution_count": 6,
   "metadata": {
    "tags": []
   },
   "outputs": [
    {
     "data": {
      "text/html": [
       "<div>\n",
       "<style scoped>\n",
       "    .dataframe tbody tr th:only-of-type {\n",
       "        vertical-align: middle;\n",
       "    }\n",
       "\n",
       "    .dataframe tbody tr th {\n",
       "        vertical-align: top;\n",
       "    }\n",
       "\n",
       "    .dataframe thead th {\n",
       "        text-align: right;\n",
       "    }\n",
       "</style>\n",
       "<table border=\"1\" class=\"dataframe\">\n",
       "  <thead>\n",
       "    <tr style=\"text-align: right;\">\n",
       "      <th></th>\n",
       "      <th>Filepath</th>\n",
       "      <th>Label</th>\n",
       "    </tr>\n",
       "  </thead>\n",
       "  <tbody>\n",
       "    <tr>\n",
       "      <th>0</th>\n",
       "      <td>/home/pratham/study/input_data/kaggle_surface_...</td>\n",
       "      <td>POSITIVE</td>\n",
       "    </tr>\n",
       "    <tr>\n",
       "      <th>1</th>\n",
       "      <td>/home/pratham/study/input_data/kaggle_surface_...</td>\n",
       "      <td>POSITIVE</td>\n",
       "    </tr>\n",
       "    <tr>\n",
       "      <th>2</th>\n",
       "      <td>/home/pratham/study/input_data/kaggle_surface_...</td>\n",
       "      <td>POSITIVE</td>\n",
       "    </tr>\n",
       "    <tr>\n",
       "      <th>3</th>\n",
       "      <td>/home/pratham/study/input_data/kaggle_surface_...</td>\n",
       "      <td>POSITIVE</td>\n",
       "    </tr>\n",
       "    <tr>\n",
       "      <th>4</th>\n",
       "      <td>/home/pratham/study/input_data/kaggle_surface_...</td>\n",
       "      <td>POSITIVE</td>\n",
       "    </tr>\n",
       "    <tr>\n",
       "      <th>...</th>\n",
       "      <td>...</td>\n",
       "      <td>...</td>\n",
       "    </tr>\n",
       "    <tr>\n",
       "      <th>19995</th>\n",
       "      <td>/home/pratham/study/input_data/kaggle_surface_...</td>\n",
       "      <td>POSITIVE</td>\n",
       "    </tr>\n",
       "    <tr>\n",
       "      <th>19996</th>\n",
       "      <td>/home/pratham/study/input_data/kaggle_surface_...</td>\n",
       "      <td>POSITIVE</td>\n",
       "    </tr>\n",
       "    <tr>\n",
       "      <th>19997</th>\n",
       "      <td>/home/pratham/study/input_data/kaggle_surface_...</td>\n",
       "      <td>POSITIVE</td>\n",
       "    </tr>\n",
       "    <tr>\n",
       "      <th>19998</th>\n",
       "      <td>/home/pratham/study/input_data/kaggle_surface_...</td>\n",
       "      <td>POSITIVE</td>\n",
       "    </tr>\n",
       "    <tr>\n",
       "      <th>19999</th>\n",
       "      <td>/home/pratham/study/input_data/kaggle_surface_...</td>\n",
       "      <td>POSITIVE</td>\n",
       "    </tr>\n",
       "  </tbody>\n",
       "</table>\n",
       "<p>20000 rows × 2 columns</p>\n",
       "</div>"
      ],
      "text/plain": [
       "                                                Filepath     Label\n",
       "0      /home/pratham/study/input_data/kaggle_surface_...  POSITIVE\n",
       "1      /home/pratham/study/input_data/kaggle_surface_...  POSITIVE\n",
       "2      /home/pratham/study/input_data/kaggle_surface_...  POSITIVE\n",
       "3      /home/pratham/study/input_data/kaggle_surface_...  POSITIVE\n",
       "4      /home/pratham/study/input_data/kaggle_surface_...  POSITIVE\n",
       "...                                                  ...       ...\n",
       "19995  /home/pratham/study/input_data/kaggle_surface_...  POSITIVE\n",
       "19996  /home/pratham/study/input_data/kaggle_surface_...  POSITIVE\n",
       "19997  /home/pratham/study/input_data/kaggle_surface_...  POSITIVE\n",
       "19998  /home/pratham/study/input_data/kaggle_surface_...  POSITIVE\n",
       "19999  /home/pratham/study/input_data/kaggle_surface_...  POSITIVE\n",
       "\n",
       "[20000 rows x 2 columns]"
      ]
     },
     "execution_count": 6,
     "metadata": {},
     "output_type": "execute_result"
    }
   ],
   "source": [
    "generate_df(positive_dir, label = 'POSITIVE')"
   ]
  },
  {
   "cell_type": "code",
   "execution_count": 7,
   "metadata": {
    "tags": []
   },
   "outputs": [
    {
     "data": {
      "text/html": [
       "<div>\n",
       "<style scoped>\n",
       "    .dataframe tbody tr th:only-of-type {\n",
       "        vertical-align: middle;\n",
       "    }\n",
       "\n",
       "    .dataframe tbody tr th {\n",
       "        vertical-align: top;\n",
       "    }\n",
       "\n",
       "    .dataframe thead th {\n",
       "        text-align: right;\n",
       "    }\n",
       "</style>\n",
       "<table border=\"1\" class=\"dataframe\">\n",
       "  <thead>\n",
       "    <tr style=\"text-align: right;\">\n",
       "      <th></th>\n",
       "      <th>Filepath</th>\n",
       "      <th>Label</th>\n",
       "    </tr>\n",
       "  </thead>\n",
       "  <tbody>\n",
       "    <tr>\n",
       "      <th>0</th>\n",
       "      <td>/home/pratham/study/input_data/kaggle_surface_...</td>\n",
       "      <td>NEGATIVE</td>\n",
       "    </tr>\n",
       "    <tr>\n",
       "      <th>1</th>\n",
       "      <td>/home/pratham/study/input_data/kaggle_surface_...</td>\n",
       "      <td>NEGATIVE</td>\n",
       "    </tr>\n",
       "    <tr>\n",
       "      <th>2</th>\n",
       "      <td>/home/pratham/study/input_data/kaggle_surface_...</td>\n",
       "      <td>NEGATIVE</td>\n",
       "    </tr>\n",
       "    <tr>\n",
       "      <th>3</th>\n",
       "      <td>/home/pratham/study/input_data/kaggle_surface_...</td>\n",
       "      <td>NEGATIVE</td>\n",
       "    </tr>\n",
       "    <tr>\n",
       "      <th>4</th>\n",
       "      <td>/home/pratham/study/input_data/kaggle_surface_...</td>\n",
       "      <td>NEGATIVE</td>\n",
       "    </tr>\n",
       "    <tr>\n",
       "      <th>...</th>\n",
       "      <td>...</td>\n",
       "      <td>...</td>\n",
       "    </tr>\n",
       "    <tr>\n",
       "      <th>19995</th>\n",
       "      <td>/home/pratham/study/input_data/kaggle_surface_...</td>\n",
       "      <td>NEGATIVE</td>\n",
       "    </tr>\n",
       "    <tr>\n",
       "      <th>19996</th>\n",
       "      <td>/home/pratham/study/input_data/kaggle_surface_...</td>\n",
       "      <td>NEGATIVE</td>\n",
       "    </tr>\n",
       "    <tr>\n",
       "      <th>19997</th>\n",
       "      <td>/home/pratham/study/input_data/kaggle_surface_...</td>\n",
       "      <td>NEGATIVE</td>\n",
       "    </tr>\n",
       "    <tr>\n",
       "      <th>19998</th>\n",
       "      <td>/home/pratham/study/input_data/kaggle_surface_...</td>\n",
       "      <td>NEGATIVE</td>\n",
       "    </tr>\n",
       "    <tr>\n",
       "      <th>19999</th>\n",
       "      <td>/home/pratham/study/input_data/kaggle_surface_...</td>\n",
       "      <td>NEGATIVE</td>\n",
       "    </tr>\n",
       "  </tbody>\n",
       "</table>\n",
       "<p>20000 rows × 2 columns</p>\n",
       "</div>"
      ],
      "text/plain": [
       "                                                Filepath     Label\n",
       "0      /home/pratham/study/input_data/kaggle_surface_...  NEGATIVE\n",
       "1      /home/pratham/study/input_data/kaggle_surface_...  NEGATIVE\n",
       "2      /home/pratham/study/input_data/kaggle_surface_...  NEGATIVE\n",
       "3      /home/pratham/study/input_data/kaggle_surface_...  NEGATIVE\n",
       "4      /home/pratham/study/input_data/kaggle_surface_...  NEGATIVE\n",
       "...                                                  ...       ...\n",
       "19995  /home/pratham/study/input_data/kaggle_surface_...  NEGATIVE\n",
       "19996  /home/pratham/study/input_data/kaggle_surface_...  NEGATIVE\n",
       "19997  /home/pratham/study/input_data/kaggle_surface_...  NEGATIVE\n",
       "19998  /home/pratham/study/input_data/kaggle_surface_...  NEGATIVE\n",
       "19999  /home/pratham/study/input_data/kaggle_surface_...  NEGATIVE\n",
       "\n",
       "[20000 rows x 2 columns]"
      ]
     },
     "execution_count": 7,
     "metadata": {},
     "output_type": "execute_result"
    }
   ],
   "source": [
    "generate_df(negative_dir, label = 'NEGATIVE')"
   ]
  },
  {
   "cell_type": "code",
   "execution_count": 8,
   "metadata": {
    "tags": []
   },
   "outputs": [
    {
     "data": {
      "text/html": [
       "<div>\n",
       "<style scoped>\n",
       "    .dataframe tbody tr th:only-of-type {\n",
       "        vertical-align: middle;\n",
       "    }\n",
       "\n",
       "    .dataframe tbody tr th {\n",
       "        vertical-align: top;\n",
       "    }\n",
       "\n",
       "    .dataframe thead th {\n",
       "        text-align: right;\n",
       "    }\n",
       "</style>\n",
       "<table border=\"1\" class=\"dataframe\">\n",
       "  <thead>\n",
       "    <tr style=\"text-align: right;\">\n",
       "      <th></th>\n",
       "      <th>Filepath</th>\n",
       "      <th>Label</th>\n",
       "    </tr>\n",
       "  </thead>\n",
       "  <tbody>\n",
       "    <tr>\n",
       "      <th>0</th>\n",
       "      <td>/home/pratham/study/input_data/kaggle_surface_...</td>\n",
       "      <td>POSITIVE</td>\n",
       "    </tr>\n",
       "    <tr>\n",
       "      <th>1</th>\n",
       "      <td>/home/pratham/study/input_data/kaggle_surface_...</td>\n",
       "      <td>POSITIVE</td>\n",
       "    </tr>\n",
       "    <tr>\n",
       "      <th>2</th>\n",
       "      <td>/home/pratham/study/input_data/kaggle_surface_...</td>\n",
       "      <td>POSITIVE</td>\n",
       "    </tr>\n",
       "    <tr>\n",
       "      <th>3</th>\n",
       "      <td>/home/pratham/study/input_data/kaggle_surface_...</td>\n",
       "      <td>NEGATIVE</td>\n",
       "    </tr>\n",
       "    <tr>\n",
       "      <th>4</th>\n",
       "      <td>/home/pratham/study/input_data/kaggle_surface_...</td>\n",
       "      <td>POSITIVE</td>\n",
       "    </tr>\n",
       "    <tr>\n",
       "      <th>...</th>\n",
       "      <td>...</td>\n",
       "      <td>...</td>\n",
       "    </tr>\n",
       "    <tr>\n",
       "      <th>39995</th>\n",
       "      <td>/home/pratham/study/input_data/kaggle_surface_...</td>\n",
       "      <td>POSITIVE</td>\n",
       "    </tr>\n",
       "    <tr>\n",
       "      <th>39996</th>\n",
       "      <td>/home/pratham/study/input_data/kaggle_surface_...</td>\n",
       "      <td>NEGATIVE</td>\n",
       "    </tr>\n",
       "    <tr>\n",
       "      <th>39997</th>\n",
       "      <td>/home/pratham/study/input_data/kaggle_surface_...</td>\n",
       "      <td>POSITIVE</td>\n",
       "    </tr>\n",
       "    <tr>\n",
       "      <th>39998</th>\n",
       "      <td>/home/pratham/study/input_data/kaggle_surface_...</td>\n",
       "      <td>POSITIVE</td>\n",
       "    </tr>\n",
       "    <tr>\n",
       "      <th>39999</th>\n",
       "      <td>/home/pratham/study/input_data/kaggle_surface_...</td>\n",
       "      <td>NEGATIVE</td>\n",
       "    </tr>\n",
       "  </tbody>\n",
       "</table>\n",
       "<p>40000 rows × 2 columns</p>\n",
       "</div>"
      ],
      "text/plain": [
       "                                                Filepath     Label\n",
       "0      /home/pratham/study/input_data/kaggle_surface_...  POSITIVE\n",
       "1      /home/pratham/study/input_data/kaggle_surface_...  POSITIVE\n",
       "2      /home/pratham/study/input_data/kaggle_surface_...  POSITIVE\n",
       "3      /home/pratham/study/input_data/kaggle_surface_...  NEGATIVE\n",
       "4      /home/pratham/study/input_data/kaggle_surface_...  POSITIVE\n",
       "...                                                  ...       ...\n",
       "39995  /home/pratham/study/input_data/kaggle_surface_...  POSITIVE\n",
       "39996  /home/pratham/study/input_data/kaggle_surface_...  NEGATIVE\n",
       "39997  /home/pratham/study/input_data/kaggle_surface_...  POSITIVE\n",
       "39998  /home/pratham/study/input_data/kaggle_surface_...  POSITIVE\n",
       "39999  /home/pratham/study/input_data/kaggle_surface_...  NEGATIVE\n",
       "\n",
       "[40000 rows x 2 columns]"
      ]
     },
     "execution_count": 8,
     "metadata": {},
     "output_type": "execute_result"
    }
   ],
   "source": [
    "positive_df = generate_df(positive_dir, label = 'POSITIVE')\n",
    "negative_df = generate_df(negative_dir, label = 'NEGATIVE')\n",
    "\n",
    "# SHUFFLING \n",
    "all_df = pd.concat([positive_df, negative_df], axis=0).sample(frac=1.0, random_state=1).reset_index(drop = True)\n",
    "all_df"
   ]
  },
  {
   "cell_type": "code",
   "execution_count": 9,
   "metadata": {
    "tags": []
   },
   "outputs": [],
   "source": [
    "train_df, test_df = train_test_split(\n",
    "    all_df.sample(6000, random_state=1),\n",
    "    train_size = 0.7,\n",
    "    shuffle=True,\n",
    "    random_state=1\n",
    ")"
   ]
  },
  {
   "cell_type": "code",
   "execution_count": 10,
   "metadata": {
    "tags": []
   },
   "outputs": [
    {
     "data": {
      "text/plain": [
       "(4200, 2)"
      ]
     },
     "execution_count": 10,
     "metadata": {},
     "output_type": "execute_result"
    }
   ],
   "source": [
    "train_df.shape"
   ]
  },
  {
   "cell_type": "code",
   "execution_count": 11,
   "metadata": {
    "tags": []
   },
   "outputs": [
    {
     "data": {
      "text/plain": [
       "(1800, 2)"
      ]
     },
     "execution_count": 11,
     "metadata": {},
     "output_type": "execute_result"
    }
   ],
   "source": [
    "test_df.shape"
   ]
  },
  {
   "cell_type": "markdown",
   "metadata": {},
   "source": [
    "# LOAD Image Data"
   ]
  },
  {
   "cell_type": "code",
   "execution_count": 12,
   "metadata": {
    "tags": []
   },
   "outputs": [],
   "source": [
    "train_gen = tf.keras.preprocessing.image.ImageDataGenerator(\n",
    "    rescale=1./255,\n",
    "    validation_split=0.2,\n",
    "    \n",
    ")\n",
    "test_gen = tf.keras.preprocessing.image.ImageDataGenerator(\n",
    "    rescale=1./255,\n",
    ")"
   ]
  },
  {
   "cell_type": "code",
   "execution_count": 13,
   "metadata": {
    "tags": []
   },
   "outputs": [
    {
     "name": "stdout",
     "output_type": "stream",
     "text": [
      "Found 3360 validated image filenames belonging to 2 classes.\n",
      "Found 840 validated image filenames belonging to 2 classes.\n",
      "Found 1800 validated image filenames belonging to 2 classes.\n"
     ]
    }
   ],
   "source": [
    "train_data = train_gen.flow_from_dataframe(\n",
    "    train_df,\n",
    "    x_col='Filepath',\n",
    "    y_col='Label',\n",
    "    target_size=(120,120),\n",
    "    color_mode='rgb',\n",
    "    class_mode='binary',\n",
    "    batch_size=32,\n",
    "    shuffle = True,\n",
    "    seed = 42,\n",
    "    subset = 'training'\n",
    ")\n",
    "val_data = train_gen.flow_from_dataframe(\n",
    "    train_df,\n",
    "    x_col='Filepath',\n",
    "    y_col='Label',\n",
    "    target_size=(120,120),\n",
    "    color_mode='rgb',\n",
    "    class_mode='binary',\n",
    "    batch_size=32,\n",
    "    shuffle = True,\n",
    "    seed = 42,\n",
    "    subset = 'validation'\n",
    ")\n",
    "test_data = test_gen.flow_from_dataframe(\n",
    "    test_df,\n",
    "    x_col='Filepath',\n",
    "    y_col='Label',\n",
    "    target_size=(120,120),\n",
    "    color_mode='rgb',\n",
    "    class_mode='binary',\n",
    "    batch_size=32,\n",
    "    shuffle = False,\n",
    "    seed=42\n",
    ")"
   ]
  },
  {
   "cell_type": "markdown",
   "metadata": {},
   "source": [
    "# TRAINING"
   ]
  },
  {
   "cell_type": "code",
   "execution_count": 14,
   "metadata": {
    "tags": []
   },
   "outputs": [
    {
     "name": "stdout",
     "output_type": "stream",
     "text": [
      "Model: \"model\"\n",
      "_________________________________________________________________\n",
      "Layer (type)                 Output Shape              Param #   \n",
      "=================================================================\n",
      "input_1 (InputLayer)         [(None, 120, 120, 3)]     0         \n",
      "_________________________________________________________________\n",
      "conv2d (Conv2D)              (None, 118, 118, 16)      448       \n",
      "_________________________________________________________________\n",
      "max_pooling2d (MaxPooling2D) (None, 59, 59, 16)        0         \n",
      "_________________________________________________________________\n",
      "conv2d_1 (Conv2D)            (None, 57, 57, 32)        4640      \n",
      "_________________________________________________________________\n",
      "max_pooling2d_1 (MaxPooling2 (None, 28, 28, 32)        0         \n",
      "_________________________________________________________________\n",
      "global_average_pooling2d (Gl (None, 32)                0         \n",
      "_________________________________________________________________\n",
      "dense (Dense)                (None, 1)                 33        \n",
      "=================================================================\n",
      "Total params: 5,121\n",
      "Trainable params: 5,121\n",
      "Non-trainable params: 0\n",
      "_________________________________________________________________\n",
      "None\n"
     ]
    }
   ],
   "source": [
    "inputs = tf.keras.Input(shape=(120,120,3))\n",
    "x = tf.keras.layers.Conv2D(filters=16, kernel_size=(3, 3), activation='relu')(inputs)\n",
    "x = tf.keras.layers.MaxPool2D(pool_size=(2,2))(x)\n",
    "x = tf.keras.layers.Conv2D(filters=32, kernel_size=(3, 3), activation='relu')(x)\n",
    "x = tf.keras.layers.MaxPool2D(pool_size=(2,2))(x)\n",
    "x = tf.keras.layers.GlobalAveragePooling2D()(x)\n",
    "output = tf.keras.layers.Dense(1, activation = 'sigmoid')(x)\n",
    "\n",
    "model = tf.keras.Model(inputs = inputs, outputs = output)\n",
    "\n",
    "model.compile(\n",
    "    optimizer = 'adam',\n",
    "    loss = 'binary_crossentropy',\n",
    "    metrics = ['accuracy']\n",
    ")\n",
    "\n",
    "print(model.summary())"
   ]
  },
  {
   "cell_type": "code",
   "execution_count": 15,
   "metadata": {
    "tags": []
   },
   "outputs": [
    {
     "name": "stdout",
     "output_type": "stream",
     "text": [
      "Epoch 1/100\n",
      "105/105 [==============================] - 6s 29ms/step - loss: 0.6847 - accuracy: 0.5614 - val_loss: 0.6483 - val_accuracy: 0.7726\n",
      "Epoch 2/100\n",
      "105/105 [==============================] - 3s 28ms/step - loss: 0.6275 - accuracy: 0.6991 - val_loss: 0.5651 - val_accuracy: 0.7595\n",
      "Epoch 3/100\n",
      "105/105 [==============================] - 3s 28ms/step - loss: 0.5234 - accuracy: 0.8057 - val_loss: 0.4914 - val_accuracy: 0.8452\n",
      "Epoch 4/100\n",
      "105/105 [==============================] - 3s 28ms/step - loss: 0.4208 - accuracy: 0.8829 - val_loss: 0.3893 - val_accuracy: 0.9179\n",
      "Epoch 5/100\n",
      "105/105 [==============================] - 3s 28ms/step - loss: 0.3328 - accuracy: 0.9212 - val_loss: 0.3109 - val_accuracy: 0.9369\n",
      "Epoch 6/100\n",
      "105/105 [==============================] - 3s 28ms/step - loss: 0.2670 - accuracy: 0.9366 - val_loss: 0.2625 - val_accuracy: 0.9214\n",
      "Epoch 7/100\n",
      "105/105 [==============================] - 3s 28ms/step - loss: 0.2009 - accuracy: 0.9494 - val_loss: 0.2241 - val_accuracy: 0.9476\n",
      "Epoch 8/100\n",
      "105/105 [==============================] - 3s 28ms/step - loss: 0.1624 - accuracy: 0.9603 - val_loss: 0.2079 - val_accuracy: 0.9643\n",
      "Epoch 9/100\n",
      "105/105 [==============================] - 3s 28ms/step - loss: 0.1537 - accuracy: 0.9575 - val_loss: 0.1883 - val_accuracy: 0.9524\n",
      "Epoch 10/100\n",
      "105/105 [==============================] - 3s 28ms/step - loss: 0.1493 - accuracy: 0.9569 - val_loss: 0.1878 - val_accuracy: 0.9643\n",
      "Epoch 11/100\n",
      "105/105 [==============================] - 3s 28ms/step - loss: 0.1261 - accuracy: 0.9643 - val_loss: 0.1611 - val_accuracy: 0.9667\n",
      "Epoch 12/100\n",
      "105/105 [==============================] - 3s 28ms/step - loss: 0.1218 - accuracy: 0.9657 - val_loss: 0.1610 - val_accuracy: 0.9702\n",
      "Epoch 13/100\n",
      "105/105 [==============================] - 3s 27ms/step - loss: 0.1013 - accuracy: 0.9718 - val_loss: 0.1532 - val_accuracy: 0.9702\n",
      "Epoch 14/100\n",
      "105/105 [==============================] - 3s 28ms/step - loss: 0.0950 - accuracy: 0.9681 - val_loss: 0.1273 - val_accuracy: 0.9738\n",
      "Epoch 15/100\n",
      "105/105 [==============================] - 3s 28ms/step - loss: 0.0966 - accuracy: 0.9732 - val_loss: 0.1599 - val_accuracy: 0.9774\n",
      "Epoch 16/100\n",
      "105/105 [==============================] - 3s 28ms/step - loss: 0.0704 - accuracy: 0.9799 - val_loss: 0.1144 - val_accuracy: 0.9750\n",
      "Epoch 17/100\n",
      "105/105 [==============================] - 3s 28ms/step - loss: 0.0869 - accuracy: 0.9747 - val_loss: 0.1189 - val_accuracy: 0.9726\n",
      "Epoch 18/100\n",
      "105/105 [==============================] - 3s 29ms/step - loss: 0.0789 - accuracy: 0.9763 - val_loss: 0.1141 - val_accuracy: 0.9798\n",
      "Epoch 19/100\n",
      "105/105 [==============================] - 3s 28ms/step - loss: 0.0831 - accuracy: 0.9756 - val_loss: 0.1375 - val_accuracy: 0.9774\n",
      "Epoch 20/100\n",
      "105/105 [==============================] - 3s 29ms/step - loss: 0.0809 - accuracy: 0.9736 - val_loss: 0.1205 - val_accuracy: 0.9821\n",
      "Epoch 21/100\n",
      "105/105 [==============================] - 3s 29ms/step - loss: 0.0809 - accuracy: 0.9787 - val_loss: 0.1577 - val_accuracy: 0.9762\n"
     ]
    }
   ],
   "source": [
    "history = model.fit(\n",
    "    train_data,\n",
    "    validation_data=val_data,\n",
    "    epochs=100,\n",
    "    callbacks=[\n",
    "        tf.keras.callbacks.EarlyStopping(\n",
    "            monitor='val_loss',\n",
    "            patience = 3,\n",
    "            restore_best_weights=True\n",
    "        )\n",
    "    ]\n",
    ")"
   ]
  },
  {
   "cell_type": "code",
   "execution_count": null,
   "metadata": {},
   "outputs": [],
   "source": []
  },
  {
   "cell_type": "code",
   "execution_count": null,
   "metadata": {},
   "outputs": [],
   "source": []
  }
 ],
 "metadata": {
  "kernelspec": {
   "display_name": "Python 3",
   "language": "python",
   "name": "python3"
  },
  "language_info": {
   "codemirror_mode": {
    "name": "ipython",
    "version": 3
   },
   "file_extension": ".py",
   "mimetype": "text/x-python",
   "name": "python",
   "nbconvert_exporter": "python",
   "pygments_lexer": "ipython3",
   "version": "3.8.10"
  }
 },
 "nbformat": 4,
 "nbformat_minor": 4
}
