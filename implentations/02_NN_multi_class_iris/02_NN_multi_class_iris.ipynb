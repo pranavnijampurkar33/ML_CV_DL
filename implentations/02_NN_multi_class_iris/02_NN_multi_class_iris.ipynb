{
 "cells": [
  {
   "cell_type": "markdown",
   "metadata": {},
   "source": [
    "# DL Multi-class Classification\n",
    "##### https://www.youtube.com/watch?v=2WdPdE2hq78&t=630s\n",
    "#### YT Part 07 - Constructing a Multi-Class Classifier Using Neural Network with Python (Tensorflow Keras)"
   ]
  },
  {
   "cell_type": "markdown",
   "metadata": {},
   "source": [
    "### Multi-Class Classification with Tensorflow and Keras Deep Learning Libraries\n",
    "1. Construct a multi-layer neural netword model\n",
    "2. Tune the hyper-parameter for training a model\n",
    "3. Evaluate the model\n",
    "\n",
    "#### Iris Dataset\n",
    "https://archive.ics.uci.edu/ml/datasets/iris\n",
    "\n",
    "#### Attribute Information:\n",
    "1. sepal length in cm\n",
    "2. sepal width in cm\n",
    "3. petal length in cm\n",
    "4. petal width in cm\n",
    "5. class:\n",
    "* Iris Setosa\n",
    "* Iris Versicolour\n",
    "* Iris Virginica"
   ]
  },
  {
   "cell_type": "markdown",
   "metadata": {},
   "source": [
    "### Download the data and then convert it to pandas dataframe to analyze it"
   ]
  },
  {
   "cell_type": "code",
   "execution_count": 1,
   "metadata": {},
   "outputs": [
    {
     "name": "stdout",
     "output_type": "stream",
     "text": [
      "INFO:tensorflow:Enabling eager execution\n",
      "INFO:tensorflow:Enabling v2 tensorshape\n",
      "INFO:tensorflow:Enabling resource variables\n",
      "INFO:tensorflow:Enabling tensor equality\n",
      "INFO:tensorflow:Enabling control flow v2\n"
     ]
    }
   ],
   "source": [
    "# Tensorflow and Keras are two packages for creating NN models.\n",
    "import tensorflow as tf\n",
    "from tensorflow import keras\n",
    "from sklearn.model_selection import train_test_split\n",
    "\n",
    "# import NN layers and Other components\n",
    "from tensorflow.keras.models import Sequential\n",
    "from tensorflow.keras.layers import Activation, Dense, BatchNormalization, Dropout\n",
    "from tensorflow.keras import optimizers\n",
    "\n",
    "import matplotlib.pyplot as plt\n",
    "import numpy as np\n",
    "import pandas as pd \n",
    "import seaborn as sns # for plotting"
   ]
  },
  {
   "cell_type": "code",
   "execution_count": 2,
   "metadata": {},
   "outputs": [],
   "source": [
    "tf.random.set_seed(13) # to make sure the experiment is reproducible \n",
    "tf.debugging.set_log_device_placement(False)"
   ]
  },
  {
   "cell_type": "code",
   "execution_count": 3,
   "metadata": {},
   "outputs": [
    {
     "data": {
      "text/html": [
       "<div>\n",
       "<style scoped>\n",
       "    .dataframe tbody tr th:only-of-type {\n",
       "        vertical-align: middle;\n",
       "    }\n",
       "\n",
       "    .dataframe tbody tr th {\n",
       "        vertical-align: top;\n",
       "    }\n",
       "\n",
       "    .dataframe thead th {\n",
       "        text-align: right;\n",
       "    }\n",
       "</style>\n",
       "<table border=\"1\" class=\"dataframe\">\n",
       "  <thead>\n",
       "    <tr style=\"text-align: right;\">\n",
       "      <th></th>\n",
       "      <th>sepal.length</th>\n",
       "      <th>sepal.width</th>\n",
       "      <th>petal.length</th>\n",
       "      <th>petal.width</th>\n",
       "      <th>variety</th>\n",
       "    </tr>\n",
       "  </thead>\n",
       "  <tbody>\n",
       "    <tr>\n",
       "      <th>0</th>\n",
       "      <td>5.1</td>\n",
       "      <td>3.5</td>\n",
       "      <td>1.4</td>\n",
       "      <td>0.2</td>\n",
       "      <td>Setosa</td>\n",
       "    </tr>\n",
       "    <tr>\n",
       "      <th>1</th>\n",
       "      <td>4.9</td>\n",
       "      <td>3.0</td>\n",
       "      <td>1.4</td>\n",
       "      <td>0.2</td>\n",
       "      <td>Setosa</td>\n",
       "    </tr>\n",
       "    <tr>\n",
       "      <th>2</th>\n",
       "      <td>4.7</td>\n",
       "      <td>3.2</td>\n",
       "      <td>1.3</td>\n",
       "      <td>0.2</td>\n",
       "      <td>Setosa</td>\n",
       "    </tr>\n",
       "    <tr>\n",
       "      <th>3</th>\n",
       "      <td>4.6</td>\n",
       "      <td>3.1</td>\n",
       "      <td>1.5</td>\n",
       "      <td>0.2</td>\n",
       "      <td>Setosa</td>\n",
       "    </tr>\n",
       "    <tr>\n",
       "      <th>4</th>\n",
       "      <td>5.0</td>\n",
       "      <td>3.6</td>\n",
       "      <td>1.4</td>\n",
       "      <td>0.2</td>\n",
       "      <td>Setosa</td>\n",
       "    </tr>\n",
       "    <tr>\n",
       "      <th>...</th>\n",
       "      <td>...</td>\n",
       "      <td>...</td>\n",
       "      <td>...</td>\n",
       "      <td>...</td>\n",
       "      <td>...</td>\n",
       "    </tr>\n",
       "    <tr>\n",
       "      <th>145</th>\n",
       "      <td>6.7</td>\n",
       "      <td>3.0</td>\n",
       "      <td>5.2</td>\n",
       "      <td>2.3</td>\n",
       "      <td>Virginica</td>\n",
       "    </tr>\n",
       "    <tr>\n",
       "      <th>146</th>\n",
       "      <td>6.3</td>\n",
       "      <td>2.5</td>\n",
       "      <td>5.0</td>\n",
       "      <td>1.9</td>\n",
       "      <td>Virginica</td>\n",
       "    </tr>\n",
       "    <tr>\n",
       "      <th>147</th>\n",
       "      <td>6.5</td>\n",
       "      <td>3.0</td>\n",
       "      <td>5.2</td>\n",
       "      <td>2.0</td>\n",
       "      <td>Virginica</td>\n",
       "    </tr>\n",
       "    <tr>\n",
       "      <th>148</th>\n",
       "      <td>6.2</td>\n",
       "      <td>3.4</td>\n",
       "      <td>5.4</td>\n",
       "      <td>2.3</td>\n",
       "      <td>Virginica</td>\n",
       "    </tr>\n",
       "    <tr>\n",
       "      <th>149</th>\n",
       "      <td>5.9</td>\n",
       "      <td>3.0</td>\n",
       "      <td>5.1</td>\n",
       "      <td>1.8</td>\n",
       "      <td>Virginica</td>\n",
       "    </tr>\n",
       "  </tbody>\n",
       "</table>\n",
       "<p>150 rows × 5 columns</p>\n",
       "</div>"
      ],
      "text/plain": [
       "     sepal.length  sepal.width  petal.length  petal.width    variety\n",
       "0             5.1          3.5           1.4          0.2     Setosa\n",
       "1             4.9          3.0           1.4          0.2     Setosa\n",
       "2             4.7          3.2           1.3          0.2     Setosa\n",
       "3             4.6          3.1           1.5          0.2     Setosa\n",
       "4             5.0          3.6           1.4          0.2     Setosa\n",
       "..            ...          ...           ...          ...        ...\n",
       "145           6.7          3.0           5.2          2.3  Virginica\n",
       "146           6.3          2.5           5.0          1.9  Virginica\n",
       "147           6.5          3.0           5.2          2.0  Virginica\n",
       "148           6.2          3.4           5.4          2.3  Virginica\n",
       "149           5.9          3.0           5.1          1.8  Virginica\n",
       "\n",
       "[150 rows x 5 columns]"
      ]
     },
     "execution_count": 3,
     "metadata": {},
     "output_type": "execute_result"
    }
   ],
   "source": [
    "all_ds = pd.read_csv('iris.csv')\n",
    "all_ds"
   ]
  },
  {
   "cell_type": "code",
   "execution_count": 4,
   "metadata": {},
   "outputs": [
    {
     "name": "stdout",
     "output_type": "stream",
     "text": [
      "Number of rows/examples and columns in the dataset: (150, 5)\n"
     ]
    }
   ],
   "source": [
    "print(f'Number of rows/examples and columns in the dataset: {all_ds.shape}')"
   ]
  },
  {
   "cell_type": "code",
   "execution_count": 5,
   "metadata": {},
   "outputs": [
    {
     "name": "stdout",
     "output_type": "stream",
     "text": [
      "<class 'pandas.core.frame.DataFrame'>\n",
      "RangeIndex: 150 entries, 0 to 149\n",
      "Data columns (total 5 columns):\n",
      " #   Column        Non-Null Count  Dtype  \n",
      "---  ------        --------------  -----  \n",
      " 0   sepal.length  150 non-null    float64\n",
      " 1   sepal.width   150 non-null    float64\n",
      " 2   petal.length  150 non-null    float64\n",
      " 3   petal.width   150 non-null    float64\n",
      " 4   variety       150 non-null    object \n",
      "dtypes: float64(4), object(1)\n",
      "memory usage: 6.0+ KB\n"
     ]
    }
   ],
   "source": [
    "# Summary of information on the dataset\n",
    "all_ds.info()"
   ]
  },
  {
   "cell_type": "markdown",
   "metadata": {},
   "source": [
    "## Clearning the data"
   ]
  },
  {
   "cell_type": "code",
   "execution_count": 6,
   "metadata": {},
   "outputs": [
    {
     "name": "stdout",
     "output_type": "stream",
     "text": [
      "Display NA values in each row: \n"
     ]
    },
    {
     "data": {
      "text/plain": [
       "0      0\n",
       "1      0\n",
       "2      0\n",
       "3      0\n",
       "4      0\n",
       "      ..\n",
       "145    0\n",
       "146    0\n",
       "147    0\n",
       "148    0\n",
       "149    0\n",
       "Length: 150, dtype: int64"
      ]
     },
     "execution_count": 6,
     "metadata": {},
     "output_type": "execute_result"
    }
   ],
   "source": [
    "print(\"Display NA values in each row: \")\n",
    "all_ds.isna().sum(axis=1)"
   ]
  },
  {
   "cell_type": "code",
   "execution_count": 7,
   "metadata": {},
   "outputs": [
    {
     "name": "stdout",
     "output_type": "stream",
     "text": [
      "Display NULL values in each columns: \n"
     ]
    },
    {
     "data": {
      "text/plain": [
       "sepal.length    0\n",
       "sepal.width     0\n",
       "petal.length    0\n",
       "petal.width     0\n",
       "variety         0\n",
       "dtype: int64"
      ]
     },
     "execution_count": 7,
     "metadata": {},
     "output_type": "execute_result"
    }
   ],
   "source": [
    "print(\"Display NULL values in each columns: \")\n",
    "all_ds.isnull().sum()"
   ]
  },
  {
   "cell_type": "code",
   "execution_count": 8,
   "metadata": {},
   "outputs": [],
   "source": [
    "### To Clean the data\n",
    "# Remove the rows with NA values.\n",
    "\n",
    "all_ds = all_ds.dropna()\n",
    "\n",
    "### You can also use the following line to fill the NA with Zeroes\n",
    "# allall_ds = allall_ds.fillna(0)\n",
    "# all_ds = all_ds.fillna(mean_of_column)"
   ]
  },
  {
   "cell_type": "markdown",
   "metadata": {},
   "source": [
    "### Shuffle the rows, make sure data is sorted"
   ]
  },
  {
   "cell_type": "code",
   "execution_count": 9,
   "metadata": {},
   "outputs": [],
   "source": [
    "all_ds = all_ds.sample(frac=1) # Shuffle the rows, make sure data us sorted"
   ]
  },
  {
   "cell_type": "markdown",
   "metadata": {},
   "source": [
    "### Split the data in train and test split"
   ]
  },
  {
   "cell_type": "code",
   "execution_count": 10,
   "metadata": {},
   "outputs": [
    {
     "name": "stdout",
     "output_type": "stream",
     "text": [
      "(120, 5)\n",
      "(30, 5)\n"
     ]
    }
   ],
   "source": [
    "# Split the data into 80% train and 20% test (later will divide the test data into test and validate)\n",
    "train_dataset, temp_test_dataset = train_test_split(all_ds, test_size=0.2)\n",
    "\n",
    "print(train_dataset.shape)\n",
    "print(temp_test_dataset.shape)"
   ]
  },
  {
   "cell_type": "code",
   "execution_count": 11,
   "metadata": {},
   "outputs": [
    {
     "name": "stdout",
     "output_type": "stream",
     "text": [
      "(15, 5)\n",
      "(15, 5)\n"
     ]
    }
   ],
   "source": [
    "# split the test_dataset into test(50%) and validate(50%)\n",
    "test_dataset, valid_dataset = train_test_split(temp_test_dataset, test_size=0.5)\n",
    "print( test_dataset.shape)\n",
    "print( valid_dataset.shape)"
   ]
  },
  {
   "cell_type": "code",
   "execution_count": 12,
   "metadata": {},
   "outputs": [
    {
     "name": "stdout",
     "output_type": "stream",
     "text": [
      "Display the datatype of the test_dataset: <class 'pandas.core.frame.DataFrame'>\n",
      " Train dataset\t\t: (120, 5)\n",
      " Test dataset\t\t: (15, 5)\n",
      " Validate dataset\t: (15, 5)\n"
     ]
    }
   ],
   "source": [
    "print(f\"Display the datatype of the test_dataset: {type(test_dataset)}\")\n",
    "print(f\" Train dataset\\t\\t: {train_dataset.shape}\")\n",
    "print(f\" Test dataset\\t\\t: {test_dataset.shape}\")\n",
    "print(f\" Validate dataset\\t: {valid_dataset.shape}\")"
   ]
  },
  {
   "cell_type": "code",
   "execution_count": 13,
   "metadata": {},
   "outputs": [
    {
     "data": {
      "text/plain": [
       "<seaborn.axisgrid.PairGrid at 0x7eff12e03d30>"
      ]
     },
     "execution_count": 13,
     "metadata": {},
     "output_type": "execute_result"
    },
    {
     "data": {
      "image/png": "[encoded data removed]",
      "text/plain": [
       "<Figure size 720x720 with 20 Axes>"
      ]
     },
     "metadata": {
      "needs_background": "light"
     },
     "output_type": "display_data"
    }
   ],
   "source": [
    "# Plot the relationship between any two variables to spot anything incorrect\n",
    "train_stats = train_dataset.describe()\n",
    "#train_stats.pop(\"variety\")\n",
    "sns.pairplot(train_stats[train_stats.columns], diag_kind=\"kde\") # or diag_kind=\"reg\""
   ]
  },
  {
   "cell_type": "code",
   "execution_count": 14,
   "metadata": {},
   "outputs": [
    {
     "data": {
      "text/html": [
       "<div>\n",
       "<style scoped>\n",
       "    .dataframe tbody tr th:only-of-type {\n",
       "        vertical-align: middle;\n",
       "    }\n",
       "\n",
       "    .dataframe tbody tr th {\n",
       "        vertical-align: top;\n",
       "    }\n",
       "\n",
       "    .dataframe thead th {\n",
       "        text-align: right;\n",
       "    }\n",
       "</style>\n",
       "<table border=\"1\" class=\"dataframe\">\n",
       "  <thead>\n",
       "    <tr style=\"text-align: right;\">\n",
       "      <th></th>\n",
       "      <th>count</th>\n",
       "      <th>mean</th>\n",
       "      <th>std</th>\n",
       "      <th>min</th>\n",
       "      <th>25%</th>\n",
       "      <th>50%</th>\n",
       "      <th>75%</th>\n",
       "      <th>max</th>\n",
       "    </tr>\n",
       "  </thead>\n",
       "  <tbody>\n",
       "    <tr>\n",
       "      <th>sepal.length</th>\n",
       "      <td>120.0</td>\n",
       "      <td>5.875000</td>\n",
       "      <td>0.841692</td>\n",
       "      <td>4.3</td>\n",
       "      <td>5.1</td>\n",
       "      <td>5.85</td>\n",
       "      <td>6.425</td>\n",
       "      <td>7.9</td>\n",
       "    </tr>\n",
       "    <tr>\n",
       "      <th>sepal.width</th>\n",
       "      <td>120.0</td>\n",
       "      <td>3.024167</td>\n",
       "      <td>0.432696</td>\n",
       "      <td>2.0</td>\n",
       "      <td>2.8</td>\n",
       "      <td>3.00</td>\n",
       "      <td>3.300</td>\n",
       "      <td>4.4</td>\n",
       "    </tr>\n",
       "    <tr>\n",
       "      <th>petal.length</th>\n",
       "      <td>120.0</td>\n",
       "      <td>3.922500</td>\n",
       "      <td>1.716576</td>\n",
       "      <td>1.0</td>\n",
       "      <td>1.6</td>\n",
       "      <td>4.50</td>\n",
       "      <td>5.100</td>\n",
       "      <td>6.9</td>\n",
       "    </tr>\n",
       "    <tr>\n",
       "      <th>petal.width</th>\n",
       "      <td>120.0</td>\n",
       "      <td>1.272500</td>\n",
       "      <td>0.753364</td>\n",
       "      <td>0.1</td>\n",
       "      <td>0.4</td>\n",
       "      <td>1.40</td>\n",
       "      <td>1.825</td>\n",
       "      <td>2.5</td>\n",
       "    </tr>\n",
       "  </tbody>\n",
       "</table>\n",
       "</div>"
      ],
      "text/plain": [
       "              count      mean       std  min  25%   50%    75%  max\n",
       "sepal.length  120.0  5.875000  0.841692  4.3  5.1  5.85  6.425  7.9\n",
       "sepal.width   120.0  3.024167  0.432696  2.0  2.8  3.00  3.300  4.4\n",
       "petal.length  120.0  3.922500  1.716576  1.0  1.6  4.50  5.100  6.9\n",
       "petal.width   120.0  1.272500  0.753364  0.1  0.4  1.40  1.825  2.5"
      ]
     },
     "execution_count": 14,
     "metadata": {},
     "output_type": "execute_result"
    }
   ],
   "source": [
    "# Statistics on the train dataset to make sure it is in good shape (Could display same for test and validate)\n",
    "train_stats = train_dataset.describe()\n",
    "train_stats = train_stats.transpose()\n",
    "train_stats"
   ]
  },
  {
   "cell_type": "code",
   "execution_count": 15,
   "metadata": {},
   "outputs": [],
   "source": [
    "train_labels1 = train_dataset.pop('variety')\n",
    "test_labels1 = test_dataset.pop('variety')\n",
    "valid_labels1 = valid_dataset.pop('variety')"
   ]
  },
  {
   "cell_type": "code",
   "execution_count": 16,
   "metadata": {},
   "outputs": [],
   "source": [
    "# Encode the labels\n",
    "train_labels = pd.get_dummies(train_labels1, prefix=\"Label\")\n",
    "test_labels = pd.get_dummies(test_labels1, prefix=\"Label\")\n",
    "valid_labels = pd.get_dummies(valid_labels1, prefix=\"Label\")"
   ]
  },
  {
   "cell_type": "code",
   "execution_count": 17,
   "metadata": {},
   "outputs": [
    {
     "data": {
      "text/html": [
       "<div>\n",
       "<style scoped>\n",
       "    .dataframe tbody tr th:only-of-type {\n",
       "        vertical-align: middle;\n",
       "    }\n",
       "\n",
       "    .dataframe tbody tr th {\n",
       "        vertical-align: top;\n",
       "    }\n",
       "\n",
       "    .dataframe thead th {\n",
       "        text-align: right;\n",
       "    }\n",
       "</style>\n",
       "<table border=\"1\" class=\"dataframe\">\n",
       "  <thead>\n",
       "    <tr style=\"text-align: right;\">\n",
       "      <th></th>\n",
       "      <th>Label_Setosa</th>\n",
       "      <th>Label_Versicolor</th>\n",
       "      <th>Label_Virginica</th>\n",
       "    </tr>\n",
       "  </thead>\n",
       "  <tbody>\n",
       "    <tr>\n",
       "      <th>81</th>\n",
       "      <td>0</td>\n",
       "      <td>1</td>\n",
       "      <td>0</td>\n",
       "    </tr>\n",
       "    <tr>\n",
       "      <th>70</th>\n",
       "      <td>0</td>\n",
       "      <td>1</td>\n",
       "      <td>0</td>\n",
       "    </tr>\n",
       "    <tr>\n",
       "      <th>108</th>\n",
       "      <td>0</td>\n",
       "      <td>0</td>\n",
       "      <td>1</td>\n",
       "    </tr>\n",
       "    <tr>\n",
       "      <th>130</th>\n",
       "      <td>0</td>\n",
       "      <td>0</td>\n",
       "      <td>1</td>\n",
       "    </tr>\n",
       "    <tr>\n",
       "      <th>95</th>\n",
       "      <td>0</td>\n",
       "      <td>1</td>\n",
       "      <td>0</td>\n",
       "    </tr>\n",
       "    <tr>\n",
       "      <th>...</th>\n",
       "      <td>...</td>\n",
       "      <td>...</td>\n",
       "      <td>...</td>\n",
       "    </tr>\n",
       "    <tr>\n",
       "      <th>8</th>\n",
       "      <td>1</td>\n",
       "      <td>0</td>\n",
       "      <td>0</td>\n",
       "    </tr>\n",
       "    <tr>\n",
       "      <th>24</th>\n",
       "      <td>1</td>\n",
       "      <td>0</td>\n",
       "      <td>0</td>\n",
       "    </tr>\n",
       "    <tr>\n",
       "      <th>52</th>\n",
       "      <td>0</td>\n",
       "      <td>1</td>\n",
       "      <td>0</td>\n",
       "    </tr>\n",
       "    <tr>\n",
       "      <th>111</th>\n",
       "      <td>0</td>\n",
       "      <td>0</td>\n",
       "      <td>1</td>\n",
       "    </tr>\n",
       "    <tr>\n",
       "      <th>102</th>\n",
       "      <td>0</td>\n",
       "      <td>0</td>\n",
       "      <td>1</td>\n",
       "    </tr>\n",
       "  </tbody>\n",
       "</table>\n",
       "<p>120 rows × 3 columns</p>\n",
       "</div>"
      ],
      "text/plain": [
       "     Label_Setosa  Label_Versicolor  Label_Virginica\n",
       "81              0                 1                0\n",
       "70              0                 1                0\n",
       "108             0                 0                1\n",
       "130             0                 0                1\n",
       "95              0                 1                0\n",
       "..            ...               ...              ...\n",
       "8               1                 0                0\n",
       "24              1                 0                0\n",
       "52              0                 1                0\n",
       "111             0                 0                1\n",
       "102             0                 0                1\n",
       "\n",
       "[120 rows x 3 columns]"
      ]
     },
     "execution_count": 17,
     "metadata": {},
     "output_type": "execute_result"
    }
   ],
   "source": [
    "train_labels"
   ]
  },
  {
   "cell_type": "code",
   "execution_count": 18,
   "metadata": {},
   "outputs": [
    {
     "data": {
      "text/html": [
       "<div>\n",
       "<style scoped>\n",
       "    .dataframe tbody tr th:only-of-type {\n",
       "        vertical-align: middle;\n",
       "    }\n",
       "\n",
       "    .dataframe tbody tr th {\n",
       "        vertical-align: top;\n",
       "    }\n",
       "\n",
       "    .dataframe thead th {\n",
       "        text-align: right;\n",
       "    }\n",
       "</style>\n",
       "<table border=\"1\" class=\"dataframe\">\n",
       "  <thead>\n",
       "    <tr style=\"text-align: right;\">\n",
       "      <th></th>\n",
       "      <th>Label_Setosa</th>\n",
       "      <th>Label_Versicolor</th>\n",
       "      <th>Label_Virginica</th>\n",
       "    </tr>\n",
       "  </thead>\n",
       "  <tbody>\n",
       "    <tr>\n",
       "      <th>79</th>\n",
       "      <td>0</td>\n",
       "      <td>1</td>\n",
       "      <td>0</td>\n",
       "    </tr>\n",
       "    <tr>\n",
       "      <th>82</th>\n",
       "      <td>0</td>\n",
       "      <td>1</td>\n",
       "      <td>0</td>\n",
       "    </tr>\n",
       "    <tr>\n",
       "      <th>75</th>\n",
       "      <td>0</td>\n",
       "      <td>1</td>\n",
       "      <td>0</td>\n",
       "    </tr>\n",
       "    <tr>\n",
       "      <th>72</th>\n",
       "      <td>0</td>\n",
       "      <td>1</td>\n",
       "      <td>0</td>\n",
       "    </tr>\n",
       "    <tr>\n",
       "      <th>30</th>\n",
       "      <td>1</td>\n",
       "      <td>0</td>\n",
       "      <td>0</td>\n",
       "    </tr>\n",
       "    <tr>\n",
       "      <th>18</th>\n",
       "      <td>1</td>\n",
       "      <td>0</td>\n",
       "      <td>0</td>\n",
       "    </tr>\n",
       "    <tr>\n",
       "      <th>21</th>\n",
       "      <td>1</td>\n",
       "      <td>0</td>\n",
       "      <td>0</td>\n",
       "    </tr>\n",
       "    <tr>\n",
       "      <th>31</th>\n",
       "      <td>1</td>\n",
       "      <td>0</td>\n",
       "      <td>0</td>\n",
       "    </tr>\n",
       "    <tr>\n",
       "      <th>122</th>\n",
       "      <td>0</td>\n",
       "      <td>0</td>\n",
       "      <td>1</td>\n",
       "    </tr>\n",
       "    <tr>\n",
       "      <th>35</th>\n",
       "      <td>1</td>\n",
       "      <td>0</td>\n",
       "      <td>0</td>\n",
       "    </tr>\n",
       "    <tr>\n",
       "      <th>5</th>\n",
       "      <td>1</td>\n",
       "      <td>0</td>\n",
       "      <td>0</td>\n",
       "    </tr>\n",
       "    <tr>\n",
       "      <th>34</th>\n",
       "      <td>1</td>\n",
       "      <td>0</td>\n",
       "      <td>0</td>\n",
       "    </tr>\n",
       "    <tr>\n",
       "      <th>83</th>\n",
       "      <td>0</td>\n",
       "      <td>1</td>\n",
       "      <td>0</td>\n",
       "    </tr>\n",
       "    <tr>\n",
       "      <th>17</th>\n",
       "      <td>1</td>\n",
       "      <td>0</td>\n",
       "      <td>0</td>\n",
       "    </tr>\n",
       "    <tr>\n",
       "      <th>36</th>\n",
       "      <td>1</td>\n",
       "      <td>0</td>\n",
       "      <td>0</td>\n",
       "    </tr>\n",
       "  </tbody>\n",
       "</table>\n",
       "</div>"
      ],
      "text/plain": [
       "     Label_Setosa  Label_Versicolor  Label_Virginica\n",
       "79              0                 1                0\n",
       "82              0                 1                0\n",
       "75              0                 1                0\n",
       "72              0                 1                0\n",
       "30              1                 0                0\n",
       "18              1                 0                0\n",
       "21              1                 0                0\n",
       "31              1                 0                0\n",
       "122             0                 0                1\n",
       "35              1                 0                0\n",
       "5               1                 0                0\n",
       "34              1                 0                0\n",
       "83              0                 1                0\n",
       "17              1                 0                0\n",
       "36              1                 0                0"
      ]
     },
     "execution_count": 18,
     "metadata": {},
     "output_type": "execute_result"
    }
   ],
   "source": [
    "test_labels"
   ]
  },
  {
   "cell_type": "markdown",
   "metadata": {},
   "source": [
    "## Data Normalization/Scaling \n",
    "### Subtract the mean of the training data and divide by the standard deviation of the training data"
   ]
  },
  {
   "cell_type": "code",
   "execution_count": 19,
   "metadata": {},
   "outputs": [],
   "source": [
    "# define a function to normalize the data set\n",
    "def norm(x):\n",
    "    return (x - train_stats['mean']) / train_stats['std']\n",
    "normed_train_data = norm(train_dataset)\n",
    "normed_test_data = norm(test_dataset)\n",
    "normed_valid_data = norm(valid_dataset)"
   ]
  },
  {
   "cell_type": "code",
   "execution_count": 20,
   "metadata": {},
   "outputs": [
    {
     "data": {
      "text/html": [
       "<div>\n",
       "<style scoped>\n",
       "    .dataframe tbody tr th:only-of-type {\n",
       "        vertical-align: middle;\n",
       "    }\n",
       "\n",
       "    .dataframe tbody tr th {\n",
       "        vertical-align: top;\n",
       "    }\n",
       "\n",
       "    .dataframe thead th {\n",
       "        text-align: right;\n",
       "    }\n",
       "</style>\n",
       "<table border=\"1\" class=\"dataframe\">\n",
       "  <thead>\n",
       "    <tr style=\"text-align: right;\">\n",
       "      <th></th>\n",
       "      <th>sepal.length</th>\n",
       "      <th>sepal.width</th>\n",
       "      <th>petal.length</th>\n",
       "      <th>petal.width</th>\n",
       "    </tr>\n",
       "  </thead>\n",
       "  <tbody>\n",
       "    <tr>\n",
       "      <th>81</th>\n",
       "      <td>-0.445531</td>\n",
       "      <td>-1.442505</td>\n",
       "      <td>-0.129619</td>\n",
       "      <td>-0.361711</td>\n",
       "    </tr>\n",
       "    <tr>\n",
       "      <th>70</th>\n",
       "      <td>0.029702</td>\n",
       "      <td>0.406367</td>\n",
       "      <td>0.511192</td>\n",
       "      <td>0.700193</td>\n",
       "    </tr>\n",
       "    <tr>\n",
       "      <th>108</th>\n",
       "      <td>0.980169</td>\n",
       "      <td>-1.211396</td>\n",
       "      <td>1.093747</td>\n",
       "      <td>0.700193</td>\n",
       "    </tr>\n",
       "    <tr>\n",
       "      <th>130</th>\n",
       "      <td>1.811827</td>\n",
       "      <td>-0.518069</td>\n",
       "      <td>1.268514</td>\n",
       "      <td>0.832931</td>\n",
       "    </tr>\n",
       "    <tr>\n",
       "      <th>95</th>\n",
       "      <td>-0.207915</td>\n",
       "      <td>-0.055851</td>\n",
       "      <td>0.161659</td>\n",
       "      <td>-0.096235</td>\n",
       "    </tr>\n",
       "    <tr>\n",
       "      <th>22</th>\n",
       "      <td>-1.514806</td>\n",
       "      <td>1.330802</td>\n",
       "      <td>-1.702517</td>\n",
       "      <td>-1.423615</td>\n",
       "    </tr>\n",
       "    <tr>\n",
       "      <th>139</th>\n",
       "      <td>1.217785</td>\n",
       "      <td>0.175258</td>\n",
       "      <td>0.860725</td>\n",
       "      <td>1.098407</td>\n",
       "    </tr>\n",
       "    <tr>\n",
       "      <th>53</th>\n",
       "      <td>-0.445531</td>\n",
       "      <td>-1.673614</td>\n",
       "      <td>0.045148</td>\n",
       "      <td>0.036503</td>\n",
       "    </tr>\n",
       "    <tr>\n",
       "      <th>105</th>\n",
       "      <td>2.049443</td>\n",
       "      <td>-0.055851</td>\n",
       "      <td>1.559791</td>\n",
       "      <td>1.098407</td>\n",
       "    </tr>\n",
       "    <tr>\n",
       "      <th>123</th>\n",
       "      <td>0.504935</td>\n",
       "      <td>-0.749178</td>\n",
       "      <td>0.569448</td>\n",
       "      <td>0.700193</td>\n",
       "    </tr>\n",
       "  </tbody>\n",
       "</table>\n",
       "</div>"
      ],
      "text/plain": [
       "     sepal.length  sepal.width  petal.length  petal.width\n",
       "81      -0.445531    -1.442505     -0.129619    -0.361711\n",
       "70       0.029702     0.406367      0.511192     0.700193\n",
       "108      0.980169    -1.211396      1.093747     0.700193\n",
       "130      1.811827    -0.518069      1.268514     0.832931\n",
       "95      -0.207915    -0.055851      0.161659    -0.096235\n",
       "22      -1.514806     1.330802     -1.702517    -1.423615\n",
       "139      1.217785     0.175258      0.860725     1.098407\n",
       "53      -0.445531    -1.673614      0.045148     0.036503\n",
       "105      2.049443    -0.055851      1.559791     1.098407\n",
       "123      0.504935    -0.749178      0.569448     0.700193"
      ]
     },
     "execution_count": 20,
     "metadata": {},
     "output_type": "execute_result"
    }
   ],
   "source": [
    "# show  a sample of the data after normalized\n",
    "normed_train_data.head(10)"
   ]
  },
  {
   "cell_type": "markdown",
   "metadata": {},
   "source": [
    "## Build the NN Model"
   ]
  },
  {
   "cell_type": "code",
   "execution_count": 21,
   "metadata": {},
   "outputs": [
    {
     "name": "stdout",
     "output_type": "stream",
     "text": [
      "Here is a summary of this model: \n",
      "Model: \"sequential\"\n",
      "_________________________________________________________________\n",
      "Layer (type)                 Output Shape              Param #   \n",
      "=================================================================\n",
      "dense (Dense)                (None, 16)                80        \n",
      "_________________________________________________________________\n",
      "dense_1 (Dense)              (None, 3)                 51        \n",
      "=================================================================\n",
      "Total params: 131\n",
      "Trainable params: 131\n",
      "Non-trainable params: 0\n",
      "_________________________________________________________________\n",
      "Epoch 1/100\n",
      "7/7 [==============================] - 1s 17ms/step - loss: 1.1370 - accuracy: 0.3135 - val_loss: 1.0859 - val_accuracy: 0.3333\n",
      "Epoch 2/100\n",
      "7/7 [==============================] - 0s 3ms/step - loss: 1.1037 - accuracy: 0.4084 - val_loss: 1.0761 - val_accuracy: 0.3333\n",
      "Epoch 3/100\n",
      "7/7 [==============================] - 0s 3ms/step - loss: 1.0449 - accuracy: 0.4411 - val_loss: 1.0666 - val_accuracy: 0.3333\n",
      "Epoch 4/100\n",
      "7/7 [==============================] - 0s 3ms/step - loss: 1.1099 - accuracy: 0.3660 - val_loss: 1.0568 - val_accuracy: 0.3333\n",
      "Epoch 5/100\n",
      "7/7 [==============================] - 0s 3ms/step - loss: 1.0983 - accuracy: 0.3755 - val_loss: 1.0476 - val_accuracy: 0.3333\n",
      "Epoch 6/100\n",
      "7/7 [==============================] - 0s 3ms/step - loss: 1.1030 - accuracy: 0.4169 - val_loss: 1.0383 - val_accuracy: 0.4000\n",
      "Epoch 7/100\n",
      "7/7 [==============================] - 0s 3ms/step - loss: 1.0642 - accuracy: 0.4128 - val_loss: 1.0292 - val_accuracy: 0.4000\n",
      "Epoch 8/100\n",
      "7/7 [==============================] - 0s 3ms/step - loss: 1.0621 - accuracy: 0.4545 - val_loss: 1.0200 - val_accuracy: 0.4000\n",
      "Epoch 9/100\n",
      "7/7 [==============================] - 0s 3ms/step - loss: 1.0628 - accuracy: 0.4493 - val_loss: 1.0111 - val_accuracy: 0.4667\n",
      "Epoch 10/100\n",
      "7/7 [==============================] - 0s 3ms/step - loss: 1.0122 - accuracy: 0.4892 - val_loss: 1.0024 - val_accuracy: 0.5333\n",
      "Epoch 11/100\n",
      "7/7 [==============================] - 0s 3ms/step - loss: 1.0332 - accuracy: 0.4709 - val_loss: 0.9936 - val_accuracy: 0.4667\n",
      "Epoch 12/100\n",
      "7/7 [==============================] - 0s 3ms/step - loss: 1.0364 - accuracy: 0.4464 - val_loss: 0.9851 - val_accuracy: 0.4667\n",
      "Epoch 13/100\n",
      "7/7 [==============================] - 0s 3ms/step - loss: 1.0399 - accuracy: 0.4601 - val_loss: 0.9768 - val_accuracy: 0.4667\n",
      "Epoch 14/100\n",
      "7/7 [==============================] - 0s 3ms/step - loss: 1.0370 - accuracy: 0.4531 - val_loss: 0.9683 - val_accuracy: 0.4667\n",
      "Epoch 15/100\n",
      "7/7 [==============================] - 0s 3ms/step - loss: 1.0275 - accuracy: 0.4342 - val_loss: 0.9599 - val_accuracy: 0.5333\n",
      "Epoch 16/100\n",
      "7/7 [==============================] - 0s 3ms/step - loss: 1.0512 - accuracy: 0.4442 - val_loss: 0.9517 - val_accuracy: 0.5333\n",
      "Epoch 17/100\n",
      "7/7 [==============================] - 0s 3ms/step - loss: 1.0077 - accuracy: 0.4997 - val_loss: 0.9437 - val_accuracy: 0.5333\n",
      "Epoch 18/100\n",
      "7/7 [==============================] - 0s 3ms/step - loss: 0.9861 - accuracy: 0.4965 - val_loss: 0.9358 - val_accuracy: 0.5333\n",
      "Epoch 19/100\n",
      "7/7 [==============================] - 0s 3ms/step - loss: 0.9649 - accuracy: 0.5020 - val_loss: 0.9275 - val_accuracy: 0.5333\n",
      "Epoch 20/100\n",
      "7/7 [==============================] - 0s 3ms/step - loss: 1.0540 - accuracy: 0.3807 - val_loss: 0.9202 - val_accuracy: 0.5333\n",
      "Epoch 21/100\n",
      "7/7 [==============================] - 0s 3ms/step - loss: 0.9471 - accuracy: 0.5735 - val_loss: 0.9127 - val_accuracy: 0.6000\n",
      "Epoch 22/100\n",
      "7/7 [==============================] - 0s 3ms/step - loss: 1.0039 - accuracy: 0.4479 - val_loss: 0.9053 - val_accuracy: 0.6000\n",
      "Epoch 23/100\n",
      "7/7 [==============================] - 0s 3ms/step - loss: 0.9873 - accuracy: 0.5069 - val_loss: 0.8980 - val_accuracy: 0.6000\n",
      "Epoch 24/100\n",
      "7/7 [==============================] - 0s 3ms/step - loss: 0.9432 - accuracy: 0.5335 - val_loss: 0.8905 - val_accuracy: 0.6000\n",
      "Epoch 25/100\n",
      "7/7 [==============================] - 0s 3ms/step - loss: 0.9398 - accuracy: 0.5095 - val_loss: 0.8832 - val_accuracy: 0.6000\n",
      "Epoch 26/100\n",
      "7/7 [==============================] - 0s 3ms/step - loss: 0.9129 - accuracy: 0.5919 - val_loss: 0.8760 - val_accuracy: 0.6000\n",
      "Epoch 27/100\n",
      "7/7 [==============================] - 0s 3ms/step - loss: 0.8918 - accuracy: 0.5963 - val_loss: 0.8693 - val_accuracy: 0.6000\n",
      "Epoch 28/100\n",
      "7/7 [==============================] - 0s 3ms/step - loss: 0.9322 - accuracy: 0.5096 - val_loss: 0.8622 - val_accuracy: 0.6000\n",
      "Epoch 29/100\n",
      "7/7 [==============================] - 0s 3ms/step - loss: 0.9034 - accuracy: 0.5414 - val_loss: 0.8552 - val_accuracy: 0.6000\n",
      "Epoch 30/100\n",
      "7/7 [==============================] - 0s 3ms/step - loss: 0.9380 - accuracy: 0.5420 - val_loss: 0.8483 - val_accuracy: 0.6000\n",
      "Epoch 31/100\n",
      "7/7 [==============================] - 0s 3ms/step - loss: 0.8569 - accuracy: 0.6209 - val_loss: 0.8416 - val_accuracy: 0.6000\n",
      "Epoch 32/100\n",
      "7/7 [==============================] - 0s 3ms/step - loss: 0.9190 - accuracy: 0.5596 - val_loss: 0.8350 - val_accuracy: 0.6000\n",
      "Epoch 33/100\n",
      "7/7 [==============================] - 0s 3ms/step - loss: 0.9085 - accuracy: 0.5291 - val_loss: 0.8283 - val_accuracy: 0.6000\n",
      "Epoch 34/100\n",
      "7/7 [==============================] - 0s 3ms/step - loss: 0.8831 - accuracy: 0.5819 - val_loss: 0.8220 - val_accuracy: 0.6000\n",
      "Epoch 35/100\n",
      "7/7 [==============================] - 0s 4ms/step - loss: 0.8375 - accuracy: 0.7025 - val_loss: 0.8154 - val_accuracy: 0.6000\n",
      "Epoch 36/100\n",
      "7/7 [==============================] - 0s 3ms/step - loss: 0.8687 - accuracy: 0.6013 - val_loss: 0.8093 - val_accuracy: 0.6000\n",
      "Epoch 37/100\n",
      "7/7 [==============================] - 0s 3ms/step - loss: 0.8642 - accuracy: 0.5678 - val_loss: 0.8031 - val_accuracy: 0.6667\n",
      "Epoch 38/100\n",
      "7/7 [==============================] - 0s 3ms/step - loss: 0.9111 - accuracy: 0.5402 - val_loss: 0.7970 - val_accuracy: 0.6667\n",
      "Epoch 39/100\n",
      "7/7 [==============================] - 0s 3ms/step - loss: 0.8585 - accuracy: 0.6206 - val_loss: 0.7910 - val_accuracy: 0.6667\n",
      "Epoch 40/100\n",
      "7/7 [==============================] - 0s 3ms/step - loss: 0.8765 - accuracy: 0.5960 - val_loss: 0.7851 - val_accuracy: 0.7333\n",
      "Epoch 41/100\n",
      "7/7 [==============================] - 0s 3ms/step - loss: 0.8275 - accuracy: 0.6395 - val_loss: 0.7792 - val_accuracy: 0.7333\n",
      "Epoch 42/100\n",
      "7/7 [==============================] - 0s 3ms/step - loss: 0.8456 - accuracy: 0.6690 - val_loss: 0.7736 - val_accuracy: 0.7333\n",
      "Epoch 43/100\n",
      "7/7 [==============================] - 0s 3ms/step - loss: 0.8672 - accuracy: 0.5864 - val_loss: 0.7680 - val_accuracy: 0.7333\n",
      "Epoch 44/100\n",
      "7/7 [==============================] - 0s 3ms/step - loss: 0.8449 - accuracy: 0.7040 - val_loss: 0.7626 - val_accuracy: 0.7333\n",
      "Epoch 45/100\n",
      "7/7 [==============================] - 0s 3ms/step - loss: 0.7826 - accuracy: 0.6790 - val_loss: 0.7570 - val_accuracy: 0.7333\n",
      "Epoch 46/100\n",
      "7/7 [==============================] - 0s 3ms/step - loss: 0.8356 - accuracy: 0.6930 - val_loss: 0.7515 - val_accuracy: 0.7333\n",
      "Epoch 47/100\n",
      "7/7 [==============================] - 0s 3ms/step - loss: 0.8063 - accuracy: 0.6853 - val_loss: 0.7460 - val_accuracy: 0.7333\n",
      "Epoch 48/100\n",
      "7/7 [==============================] - 0s 3ms/step - loss: 0.7925 - accuracy: 0.6696 - val_loss: 0.7406 - val_accuracy: 0.7333\n",
      "Epoch 49/100\n",
      "7/7 [==============================] - 0s 3ms/step - loss: 0.8350 - accuracy: 0.6165 - val_loss: 0.7354 - val_accuracy: 0.8000\n",
      "Epoch 50/100\n",
      "7/7 [==============================] - 0s 3ms/step - loss: 0.7931 - accuracy: 0.7193 - val_loss: 0.7302 - val_accuracy: 0.8000\n",
      "Epoch 51/100\n",
      "7/7 [==============================] - 0s 3ms/step - loss: 0.7517 - accuracy: 0.6649 - val_loss: 0.7250 - val_accuracy: 0.8000\n",
      "Epoch 52/100\n",
      "7/7 [==============================] - 0s 3ms/step - loss: 0.7985 - accuracy: 0.6484 - val_loss: 0.7199 - val_accuracy: 0.8000\n",
      "Epoch 53/100\n",
      "7/7 [==============================] - 0s 3ms/step - loss: 0.7602 - accuracy: 0.7414 - val_loss: 0.7148 - val_accuracy: 0.8000\n",
      "Epoch 54/100\n",
      "7/7 [==============================] - 0s 3ms/step - loss: 0.7840 - accuracy: 0.7078 - val_loss: 0.7100 - val_accuracy: 0.8000\n",
      "Epoch 55/100\n",
      "7/7 [==============================] - 0s 3ms/step - loss: 0.7856 - accuracy: 0.6936 - val_loss: 0.7053 - val_accuracy: 0.8000\n",
      "Epoch 56/100\n",
      "7/7 [==============================] - 0s 3ms/step - loss: 0.7815 - accuracy: 0.6246 - val_loss: 0.7007 - val_accuracy: 0.8000\n",
      "Epoch 57/100\n",
      "7/7 [==============================] - 0s 3ms/step - loss: 0.8077 - accuracy: 0.6788 - val_loss: 0.6961 - val_accuracy: 0.8000\n",
      "Epoch 58/100\n",
      "7/7 [==============================] - 0s 3ms/step - loss: 0.7736 - accuracy: 0.6623 - val_loss: 0.6914 - val_accuracy: 0.8000\n",
      "Epoch 59/100\n",
      "7/7 [==============================] - 0s 3ms/step - loss: 0.7222 - accuracy: 0.7818 - val_loss: 0.6866 - val_accuracy: 0.8000\n",
      "Epoch 60/100\n",
      "7/7 [==============================] - 0s 3ms/step - loss: 0.7824 - accuracy: 0.7127 - val_loss: 0.6821 - val_accuracy: 0.8000\n",
      "Epoch 61/100\n",
      "7/7 [==============================] - 0s 3ms/step - loss: 0.7772 - accuracy: 0.7057 - val_loss: 0.6776 - val_accuracy: 0.8000\n",
      "Epoch 62/100\n",
      "7/7 [==============================] - 0s 3ms/step - loss: 0.7353 - accuracy: 0.7312 - val_loss: 0.6731 - val_accuracy: 0.8000\n",
      "Epoch 63/100\n",
      "7/7 [==============================] - 0s 3ms/step - loss: 0.7578 - accuracy: 0.7331 - val_loss: 0.6688 - val_accuracy: 0.8000\n",
      "Epoch 64/100\n",
      "7/7 [==============================] - 0s 3ms/step - loss: 0.7618 - accuracy: 0.6895 - val_loss: 0.6645 - val_accuracy: 0.8000\n",
      "Epoch 65/100\n",
      "7/7 [==============================] - 0s 3ms/step - loss: 0.7339 - accuracy: 0.7257 - val_loss: 0.6601 - val_accuracy: 0.8000\n",
      "Epoch 66/100\n",
      "7/7 [==============================] - 0s 3ms/step - loss: 0.6795 - accuracy: 0.8054 - val_loss: 0.6558 - val_accuracy: 0.8000\n",
      "Epoch 67/100\n",
      "7/7 [==============================] - 0s 3ms/step - loss: 0.7083 - accuracy: 0.7931 - val_loss: 0.6515 - val_accuracy: 0.8000\n",
      "Epoch 68/100\n",
      "7/7 [==============================] - 0s 3ms/step - loss: 0.7353 - accuracy: 0.6968 - val_loss: 0.6475 - val_accuracy: 0.8000\n",
      "Epoch 69/100\n",
      "7/7 [==============================] - 0s 3ms/step - loss: 0.7712 - accuracy: 0.7145 - val_loss: 0.6436 - val_accuracy: 0.8000\n",
      "Epoch 70/100\n",
      "7/7 [==============================] - 0s 3ms/step - loss: 0.6945 - accuracy: 0.7892 - val_loss: 0.6397 - val_accuracy: 0.8000\n",
      "Epoch 71/100\n",
      "7/7 [==============================] - 0s 3ms/step - loss: 0.7348 - accuracy: 0.7575 - val_loss: 0.6358 - val_accuracy: 0.8000\n",
      "Epoch 72/100\n",
      "7/7 [==============================] - 0s 3ms/step - loss: 0.7116 - accuracy: 0.7792 - val_loss: 0.6319 - val_accuracy: 0.8000\n",
      "Epoch 73/100\n",
      "7/7 [==============================] - 0s 3ms/step - loss: 0.7098 - accuracy: 0.7801 - val_loss: 0.6282 - val_accuracy: 0.8000\n",
      "Epoch 74/100\n",
      "7/7 [==============================] - 0s 3ms/step - loss: 0.7208 - accuracy: 0.7819 - val_loss: 0.6245 - val_accuracy: 0.8000\n",
      "Epoch 75/100\n",
      "7/7 [==============================] - 0s 3ms/step - loss: 0.6899 - accuracy: 0.7811 - val_loss: 0.6209 - val_accuracy: 0.8000\n",
      "Epoch 76/100\n",
      "7/7 [==============================] - 0s 3ms/step - loss: 0.6947 - accuracy: 0.7477 - val_loss: 0.6175 - val_accuracy: 0.8000\n",
      "Epoch 77/100\n",
      "7/7 [==============================] - 0s 3ms/step - loss: 0.6922 - accuracy: 0.8224 - val_loss: 0.6140 - val_accuracy: 0.8000\n",
      "Epoch 78/100\n",
      "7/7 [==============================] - 0s 3ms/step - loss: 0.6573 - accuracy: 0.7802 - val_loss: 0.6104 - val_accuracy: 0.8667\n",
      "Epoch 79/100\n",
      "7/7 [==============================] - 0s 3ms/step - loss: 0.6547 - accuracy: 0.8069 - val_loss: 0.6068 - val_accuracy: 0.8667\n",
      "Epoch 80/100\n",
      "7/7 [==============================] - 0s 3ms/step - loss: 0.6402 - accuracy: 0.7797 - val_loss: 0.6033 - val_accuracy: 0.8667\n",
      "Epoch 81/100\n",
      "7/7 [==============================] - 0s 3ms/step - loss: 0.6599 - accuracy: 0.7942 - val_loss: 0.6000 - val_accuracy: 0.8667\n",
      "Epoch 82/100\n",
      "7/7 [==============================] - 0s 3ms/step - loss: 0.7002 - accuracy: 0.8038 - val_loss: 0.5967 - val_accuracy: 0.8667\n",
      "Epoch 83/100\n",
      "7/7 [==============================] - 0s 3ms/step - loss: 0.5885 - accuracy: 0.8433 - val_loss: 0.5933 - val_accuracy: 0.8667\n",
      "Epoch 84/100\n",
      "7/7 [==============================] - 0s 4ms/step - loss: 0.7095 - accuracy: 0.6978 - val_loss: 0.5900 - val_accuracy: 0.8667\n",
      "Epoch 85/100\n",
      "7/7 [==============================] - 0s 3ms/step - loss: 0.6563 - accuracy: 0.7649 - val_loss: 0.5868 - val_accuracy: 0.8667\n",
      "Epoch 86/100\n",
      "7/7 [==============================] - 0s 3ms/step - loss: 0.6327 - accuracy: 0.8106 - val_loss: 0.5835 - val_accuracy: 0.8667\n",
      "Epoch 87/100\n",
      "7/7 [==============================] - 0s 3ms/step - loss: 0.6582 - accuracy: 0.7974 - val_loss: 0.5803 - val_accuracy: 0.8667\n",
      "Epoch 88/100\n",
      "7/7 [==============================] - 0s 3ms/step - loss: 0.6550 - accuracy: 0.7677 - val_loss: 0.5772 - val_accuracy: 0.8667\n",
      "Epoch 89/100\n",
      "7/7 [==============================] - 0s 3ms/step - loss: 0.6495 - accuracy: 0.7851 - val_loss: 0.5741 - val_accuracy: 0.8667\n",
      "Epoch 90/100\n",
      "7/7 [==============================] - 0s 3ms/step - loss: 0.6640 - accuracy: 0.7942 - val_loss: 0.5712 - val_accuracy: 0.8667\n",
      "Epoch 91/100\n",
      "7/7 [==============================] - 0s 3ms/step - loss: 0.6519 - accuracy: 0.8405 - val_loss: 0.5682 - val_accuracy: 0.8667\n",
      "Epoch 92/100\n",
      "7/7 [==============================] - 0s 4ms/step - loss: 0.6044 - accuracy: 0.7478 - val_loss: 0.5652 - val_accuracy: 0.8667\n",
      "Epoch 93/100\n",
      "7/7 [==============================] - 0s 3ms/step - loss: 0.6718 - accuracy: 0.7989 - val_loss: 0.5623 - val_accuracy: 0.8667\n",
      "Epoch 94/100\n",
      "7/7 [==============================] - 0s 4ms/step - loss: 0.6400 - accuracy: 0.7272 - val_loss: 0.5596 - val_accuracy: 0.8667\n",
      "Epoch 95/100\n",
      "7/7 [==============================] - 0s 4ms/step - loss: 0.6357 - accuracy: 0.8277 - val_loss: 0.5569 - val_accuracy: 0.8667\n",
      "Epoch 96/100\n",
      "7/7 [==============================] - 0s 4ms/step - loss: 0.6128 - accuracy: 0.7795 - val_loss: 0.5541 - val_accuracy: 0.8667\n",
      "Epoch 97/100\n",
      "7/7 [==============================] - 0s 4ms/step - loss: 0.6209 - accuracy: 0.7842 - val_loss: 0.5513 - val_accuracy: 0.8667\n",
      "Epoch 98/100\n",
      "7/7 [==============================] - 0s 3ms/step - loss: 0.6146 - accuracy: 0.7871 - val_loss: 0.5485 - val_accuracy: 0.8667\n",
      "Epoch 99/100\n",
      "7/7 [==============================] - 0s 4ms/step - loss: 0.6398 - accuracy: 0.7820 - val_loss: 0.5459 - val_accuracy: 0.8667\n",
      "Epoch 100/100\n",
      "7/7 [==============================] - 0s 3ms/step - loss: 0.6008 - accuracy: 0.8835 - val_loss: 0.5432 - val_accuracy: 0.8667\n",
      "CPU times: user 3.18 s, sys: 530 ms, total: 3.71 s\n",
      "Wall time: 3.27 s\n"
     ]
    }
   ],
   "source": [
    "%%time\n",
    "\n",
    "# We declared a function for creating a model\n",
    "def build_model_two_layers():\n",
    "    model = Sequential()\n",
    "    model.add(Dense(16, input_shape=(normed_train_data.shape[1], ))) # Input layer => input_shape must be mentioned explicitly \n",
    "    model.add(Dense(3, activation='softmax'))                        # Output layer \n",
    "    # Activation: sigmoid, softmax, tanh, relu, LeakyReLu\n",
    "    # Optimizer: SGD, Adam, RMSProp, etc. # https://www.tensorflow.org/api_docs/python/tf/keras/optimizers\n",
    "    learning_rate = 0.0001\n",
    "    optimizer = optimizers.Adam(learning_rate)\n",
    "    model.compile(loss='categorical_crossentropy', #from_logits=True),\n",
    "                  optimizer=optimizer,\n",
    "                  metrics=['accuracy'])    # for regression problems, mean squared error(MSE) is often employed\n",
    "    return model\n",
    "\n",
    "EPOCHS = 100\n",
    "batch_size = 16 # approx 6 iteration\n",
    "\n",
    "model = build_model_two_layers()\n",
    "print('Here is a summary of this model: ')\n",
    "model.summary()\n",
    "\n",
    "#with tf.device('/CPU:0'):\n",
    "with tf.device('/GPU:0'):\n",
    "    history = model.fit(\n",
    "        normed_train_data,\n",
    "        train_labels,\n",
    "        batch_size = batch_size,\n",
    "        epochs=EPOCHS,\n",
    "        verbose=1,\n",
    "        shuffle=True,\n",
    "        steps_per_epoch=int(normed_train_data.shape[0] / batch_size),\n",
    "        validation_data= (normed_valid_data,valid_labels)\n",
    "    )"
   ]
  },
  {
   "cell_type": "code",
   "execution_count": 22,
   "metadata": {},
   "outputs": [
    {
     "name": "stdout",
     "output_type": "stream",
     "text": [
      "Summary of the results after each epoch: \n"
     ]
    },
    {
     "data": {
      "text/html": [
       "<div>\n",
       "<style scoped>\n",
       "    .dataframe tbody tr th:only-of-type {\n",
       "        vertical-align: middle;\n",
       "    }\n",
       "\n",
       "    .dataframe tbody tr th {\n",
       "        vertical-align: top;\n",
       "    }\n",
       "\n",
       "    .dataframe thead th {\n",
       "        text-align: right;\n",
       "    }\n",
       "</style>\n",
       "<table border=\"1\" class=\"dataframe\">\n",
       "  <thead>\n",
       "    <tr style=\"text-align: right;\">\n",
       "      <th></th>\n",
       "      <th>loss</th>\n",
       "      <th>accuracy</th>\n",
       "      <th>val_loss</th>\n",
       "      <th>val_accuracy</th>\n",
       "      <th>epoch</th>\n",
       "    </tr>\n",
       "  </thead>\n",
       "  <tbody>\n",
       "    <tr>\n",
       "      <th>95</th>\n",
       "      <td>0.628070</td>\n",
       "      <td>0.807692</td>\n",
       "      <td>0.554052</td>\n",
       "      <td>0.866667</td>\n",
       "      <td>95</td>\n",
       "    </tr>\n",
       "    <tr>\n",
       "      <th>96</th>\n",
       "      <td>0.624809</td>\n",
       "      <td>0.794643</td>\n",
       "      <td>0.551296</td>\n",
       "      <td>0.866667</td>\n",
       "      <td>96</td>\n",
       "    </tr>\n",
       "    <tr>\n",
       "      <th>97</th>\n",
       "      <td>0.624146</td>\n",
       "      <td>0.788462</td>\n",
       "      <td>0.548530</td>\n",
       "      <td>0.866667</td>\n",
       "      <td>97</td>\n",
       "    </tr>\n",
       "    <tr>\n",
       "      <th>98</th>\n",
       "      <td>0.628993</td>\n",
       "      <td>0.769231</td>\n",
       "      <td>0.545875</td>\n",
       "      <td>0.866667</td>\n",
       "      <td>98</td>\n",
       "    </tr>\n",
       "    <tr>\n",
       "      <th>99</th>\n",
       "      <td>0.594015</td>\n",
       "      <td>0.875000</td>\n",
       "      <td>0.543232</td>\n",
       "      <td>0.866667</td>\n",
       "      <td>99</td>\n",
       "    </tr>\n",
       "  </tbody>\n",
       "</table>\n",
       "</div>"
      ],
      "text/plain": [
       "        loss  accuracy  val_loss  val_accuracy  epoch\n",
       "95  0.628070  0.807692  0.554052      0.866667     95\n",
       "96  0.624809  0.794643  0.551296      0.866667     96\n",
       "97  0.624146  0.788462  0.548530      0.866667     97\n",
       "98  0.628993  0.769231  0.545875      0.866667     98\n",
       "99  0.594015  0.875000  0.543232      0.866667     99"
      ]
     },
     "execution_count": 22,
     "metadata": {},
     "output_type": "execute_result"
    }
   ],
   "source": [
    "print('Summary of the results after each epoch: ')\n",
    "hist = pd.DataFrame(history.history)\n",
    "hist[\"epoch\"] = history.epoch\n",
    "hist.tail()"
   ]
  },
  {
   "cell_type": "code",
   "execution_count": 23,
   "metadata": {},
   "outputs": [
    {
     "name": "stdout",
     "output_type": "stream",
     "text": [
      "predicted values: \n"
     ]
    },
    {
     "data": {
      "text/plain": [
       "array([[0.29026422, 0.43310183, 0.27663395],\n",
       "       [0.2547017 , 0.4159941 , 0.3293042 ],\n",
       "       [0.12765028, 0.4534576 , 0.41889212],\n",
       "       [0.1029313 , 0.49846372, 0.39860502],\n",
       "       [0.7594083 , 0.1544421 , 0.0861496 ],\n",
       "       [0.65959305, 0.19473208, 0.14567487],\n",
       "       [0.7946531 , 0.10871094, 0.09663595],\n",
       "       [0.69401944, 0.18325664, 0.12272388],\n",
       "       [0.01442983, 0.47819877, 0.5073714 ],\n",
       "       [0.76784945, 0.14949284, 0.08265767]], dtype=float32)"
      ]
     },
     "execution_count": 23,
     "metadata": {},
     "output_type": "execute_result"
    }
   ],
   "source": [
    "example_batch = normed_test_data[:10]\n",
    "example_result = model.predict(example_batch)\n",
    "print('predicted values: ')\n",
    "example_result"
   ]
  },
  {
   "cell_type": "markdown",
   "metadata": {},
   "source": [
    "## See how the training went"
   ]
  },
  {
   "cell_type": "code",
   "execution_count": 24,
   "metadata": {},
   "outputs": [
    {
     "data": {
      "image/png": "[encoded data removed]",
      "text/plain": [
       "<Figure size 432x288 with 1 Axes>"
      ]
     },
     "metadata": {
      "needs_background": "light"
     },
     "output_type": "display_data"
    }
   ],
   "source": [
    "plt.plot(history.history['accuracy'])\n",
    "plt.plot(history.history['val_accuracy'])\n",
    "plt.title('model accuracy')\n",
    "plt.ylabel('accuracy')\n",
    "plt.xlabel('epoch')\n",
    "plt.legend(['Train', 'Cross-validation'], loc='upper left')\n",
    "plt.show()"
   ]
  },
  {
   "cell_type": "code",
   "execution_count": 25,
   "metadata": {},
   "outputs": [
    {
     "data": {
      "image/png": "[encoded data removed]",
      "text/plain": [
       "<Figure size 432x288 with 1 Axes>"
      ]
     },
     "metadata": {
      "needs_background": "light"
     },
     "output_type": "display_data"
    }
   ],
   "source": [
    "plt.plot(history.history['loss'])\n",
    "plt.plot(history.history['val_loss'])\n",
    "plt.title('Model Loss')\n",
    "plt.ylabel('Loss')\n",
    "plt.xlabel('Epoch')\n",
    "plt.legend(['Train', 'Cross-validation'], loc='upper left')\n",
    "plt.show()"
   ]
  },
  {
   "cell_type": "code",
   "execution_count": 26,
   "metadata": {},
   "outputs": [
    {
     "name": "stdout",
     "output_type": "stream",
     "text": [
      "Train Split: \n",
      "4/4 [==============================] - 0s 1ms/step - loss: 0.6160 - accuracy: 0.7917\n",
      "Accuracy\t:  0.79 \n"
     ]
    }
   ],
   "source": [
    "print('Train Split: ')\n",
    "loss, accuracy = model.evaluate(normed_train_data, train_labels, verbose = 1)\n",
    "print(\"Accuracy\\t: {:5.2f} \".format(accuracy))"
   ]
  },
  {
   "cell_type": "code",
   "execution_count": 27,
   "metadata": {},
   "outputs": [
    {
     "name": "stdout",
     "output_type": "stream",
     "text": [
      "Evaluation Split: \n",
      "1/1 - 0s - loss: 0.5432 - accuracy: 0.8667\n",
      "Accuracy\t:  0.87 \n"
     ]
    }
   ],
   "source": [
    "print('Evaluation Split: ')\n",
    "loss, accuracy = model.evaluate(normed_valid_data, valid_labels, verbose=2)\n",
    "print(\"Accuracy\\t: {:5.2f} \".format(accuracy))"
   ]
  },
  {
   "cell_type": "code",
   "execution_count": 28,
   "metadata": {},
   "outputs": [
    {
     "name": "stdout",
     "output_type": "stream",
     "text": [
      "Evaluation Split: \n",
      "1/1 - 0s - loss: 0.5014 - accuracy: 0.9333\n",
      "Accuracy\t:  0.93 \n"
     ]
    }
   ],
   "source": [
    "print('Evaluation Split: ')\n",
    "loss, accuracy = model.evaluate(normed_test_data, test_labels, verbose=2)\n",
    "print(\"Accuracy\\t: {:5.2f} \".format(accuracy))"
   ]
  },
  {
   "cell_type": "code",
   "execution_count": 35,
   "metadata": {},
   "outputs": [
    {
     "ename": "ValueError",
     "evalue": "Found input variables with inconsistent numbers of samples: [3, 15]",
     "output_type": "error",
     "traceback": [
      "\u001b[0;31m---------------------------------------------------------------------------\u001b[0m",
      "\u001b[0;31mValueError\u001b[0m                                Traceback (most recent call last)",
      "\u001b[0;32m<ipython-input-35-75b00fd64634>\u001b[0m in \u001b[0;36m<module>\u001b[0;34m\u001b[0m\n\u001b[1;32m      6\u001b[0m \u001b[0mpredict_results\u001b[0m \u001b[0;34m=\u001b[0m \u001b[0mpredict_results\u001b[0m\u001b[0;34m.\u001b[0m\u001b[0margmax\u001b[0m\u001b[0;34m(\u001b[0m\u001b[0maxis\u001b[0m \u001b[0;34m=\u001b[0m \u001b[0;36m1\u001b[0m\u001b[0;34m)\u001b[0m\u001b[0;34m\u001b[0m\u001b[0;34m\u001b[0m\u001b[0m\n\u001b[1;32m      7\u001b[0m \u001b[0;34m\u001b[0m\u001b[0m\n\u001b[0;32m----> 8\u001b[0;31m \u001b[0mcm\u001b[0m \u001b[0;34m=\u001b[0m \u001b[0mconfusion_matrix\u001b[0m\u001b[0;34m(\u001b[0m\u001b[0;34m[\u001b[0m\u001b[0;36m0\u001b[0m\u001b[0;34m,\u001b[0m\u001b[0;36m1\u001b[0m\u001b[0;34m,\u001b[0m\u001b[0;36m2\u001b[0m\u001b[0;34m]\u001b[0m\u001b[0;34m,\u001b[0m \u001b[0mpredict_results\u001b[0m\u001b[0;34m)\u001b[0m\u001b[0;34m\u001b[0m\u001b[0;34m\u001b[0m\u001b[0m\n\u001b[0m\u001b[1;32m      9\u001b[0m \u001b[0msns\u001b[0m\u001b[0;34m.\u001b[0m\u001b[0mheatmap\u001b[0m\u001b[0;34m(\u001b[0m\u001b[0mcm\u001b[0m\u001b[0;34m,\u001b[0m \u001b[0mannot\u001b[0m\u001b[0;34m=\u001b[0m\u001b[0;32mTrue\u001b[0m\u001b[0;34m,\u001b[0m \u001b[0max\u001b[0m \u001b[0;34m=\u001b[0m \u001b[0max\u001b[0m\u001b[0;34m)\u001b[0m\u001b[0;34m;\u001b[0m \u001b[0;31m#annot = True to annotate cells\u001b[0m\u001b[0;34m\u001b[0m\u001b[0;34m\u001b[0m\u001b[0m\n\u001b[1;32m     10\u001b[0m \u001b[0;34m\u001b[0m\u001b[0m\n",
      "\u001b[0;32m~/study/venvs/darknet-yolo/lib/python3.8/site-packages/sklearn/utils/validation.py\u001b[0m in \u001b[0;36minner_f\u001b[0;34m(*args, **kwargs)\u001b[0m\n\u001b[1;32m     61\u001b[0m             \u001b[0mextra_args\u001b[0m \u001b[0;34m=\u001b[0m \u001b[0mlen\u001b[0m\u001b[0;34m(\u001b[0m\u001b[0margs\u001b[0m\u001b[0;34m)\u001b[0m \u001b[0;34m-\u001b[0m \u001b[0mlen\u001b[0m\u001b[0;34m(\u001b[0m\u001b[0mall_args\u001b[0m\u001b[0;34m)\u001b[0m\u001b[0;34m\u001b[0m\u001b[0;34m\u001b[0m\u001b[0m\n\u001b[1;32m     62\u001b[0m             \u001b[0;32mif\u001b[0m \u001b[0mextra_args\u001b[0m \u001b[0;34m<=\u001b[0m \u001b[0;36m0\u001b[0m\u001b[0;34m:\u001b[0m\u001b[0;34m\u001b[0m\u001b[0;34m\u001b[0m\u001b[0m\n\u001b[0;32m---> 63\u001b[0;31m                 \u001b[0;32mreturn\u001b[0m \u001b[0mf\u001b[0m\u001b[0;34m(\u001b[0m\u001b[0;34m*\u001b[0m\u001b[0margs\u001b[0m\u001b[0;34m,\u001b[0m \u001b[0;34m**\u001b[0m\u001b[0mkwargs\u001b[0m\u001b[0;34m)\u001b[0m\u001b[0;34m\u001b[0m\u001b[0;34m\u001b[0m\u001b[0m\n\u001b[0m\u001b[1;32m     64\u001b[0m \u001b[0;34m\u001b[0m\u001b[0m\n\u001b[1;32m     65\u001b[0m             \u001b[0;31m# extra_args > 0\u001b[0m\u001b[0;34m\u001b[0m\u001b[0;34m\u001b[0m\u001b[0;34m\u001b[0m\u001b[0m\n",
      "\u001b[0;32m~/study/venvs/darknet-yolo/lib/python3.8/site-packages/sklearn/metrics/_classification.py\u001b[0m in \u001b[0;36mconfusion_matrix\u001b[0;34m(y_true, y_pred, labels, sample_weight, normalize)\u001b[0m\n\u001b[1;32m    297\u001b[0m \u001b[0;34m\u001b[0m\u001b[0m\n\u001b[1;32m    298\u001b[0m     \"\"\"\n\u001b[0;32m--> 299\u001b[0;31m     \u001b[0my_type\u001b[0m\u001b[0;34m,\u001b[0m \u001b[0my_true\u001b[0m\u001b[0;34m,\u001b[0m \u001b[0my_pred\u001b[0m \u001b[0;34m=\u001b[0m \u001b[0m_check_targets\u001b[0m\u001b[0;34m(\u001b[0m\u001b[0my_true\u001b[0m\u001b[0;34m,\u001b[0m \u001b[0my_pred\u001b[0m\u001b[0;34m)\u001b[0m\u001b[0;34m\u001b[0m\u001b[0;34m\u001b[0m\u001b[0m\n\u001b[0m\u001b[1;32m    300\u001b[0m     \u001b[0;32mif\u001b[0m \u001b[0my_type\u001b[0m \u001b[0;32mnot\u001b[0m \u001b[0;32min\u001b[0m \u001b[0;34m(\u001b[0m\u001b[0;34m\"binary\"\u001b[0m\u001b[0;34m,\u001b[0m \u001b[0;34m\"multiclass\"\u001b[0m\u001b[0;34m)\u001b[0m\u001b[0;34m:\u001b[0m\u001b[0;34m\u001b[0m\u001b[0;34m\u001b[0m\u001b[0m\n\u001b[1;32m    301\u001b[0m         \u001b[0;32mraise\u001b[0m \u001b[0mValueError\u001b[0m\u001b[0;34m(\u001b[0m\u001b[0;34m\"%s is not supported\"\u001b[0m \u001b[0;34m%\u001b[0m \u001b[0my_type\u001b[0m\u001b[0;34m)\u001b[0m\u001b[0;34m\u001b[0m\u001b[0;34m\u001b[0m\u001b[0m\n",
      "\u001b[0;32m~/study/venvs/darknet-yolo/lib/python3.8/site-packages/sklearn/metrics/_classification.py\u001b[0m in \u001b[0;36m_check_targets\u001b[0;34m(y_true, y_pred)\u001b[0m\n\u001b[1;32m     81\u001b[0m     \u001b[0my_pred\u001b[0m \u001b[0;34m:\u001b[0m \u001b[0marray\u001b[0m \u001b[0;32mor\u001b[0m \u001b[0mindicator\u001b[0m \u001b[0mmatrix\u001b[0m\u001b[0;34m\u001b[0m\u001b[0;34m\u001b[0m\u001b[0m\n\u001b[1;32m     82\u001b[0m     \"\"\"\n\u001b[0;32m---> 83\u001b[0;31m     \u001b[0mcheck_consistent_length\u001b[0m\u001b[0;34m(\u001b[0m\u001b[0my_true\u001b[0m\u001b[0;34m,\u001b[0m \u001b[0my_pred\u001b[0m\u001b[0;34m)\u001b[0m\u001b[0;34m\u001b[0m\u001b[0;34m\u001b[0m\u001b[0m\n\u001b[0m\u001b[1;32m     84\u001b[0m     \u001b[0mtype_true\u001b[0m \u001b[0;34m=\u001b[0m \u001b[0mtype_of_target\u001b[0m\u001b[0;34m(\u001b[0m\u001b[0my_true\u001b[0m\u001b[0;34m)\u001b[0m\u001b[0;34m\u001b[0m\u001b[0;34m\u001b[0m\u001b[0m\n\u001b[1;32m     85\u001b[0m     \u001b[0mtype_pred\u001b[0m \u001b[0;34m=\u001b[0m \u001b[0mtype_of_target\u001b[0m\u001b[0;34m(\u001b[0m\u001b[0my_pred\u001b[0m\u001b[0;34m)\u001b[0m\u001b[0;34m\u001b[0m\u001b[0;34m\u001b[0m\u001b[0m\n",
      "\u001b[0;32m~/study/venvs/darknet-yolo/lib/python3.8/site-packages/sklearn/utils/validation.py\u001b[0m in \u001b[0;36mcheck_consistent_length\u001b[0;34m(*arrays)\u001b[0m\n\u001b[1;32m    317\u001b[0m     \u001b[0muniques\u001b[0m \u001b[0;34m=\u001b[0m \u001b[0mnp\u001b[0m\u001b[0;34m.\u001b[0m\u001b[0munique\u001b[0m\u001b[0;34m(\u001b[0m\u001b[0mlengths\u001b[0m\u001b[0;34m)\u001b[0m\u001b[0;34m\u001b[0m\u001b[0;34m\u001b[0m\u001b[0m\n\u001b[1;32m    318\u001b[0m     \u001b[0;32mif\u001b[0m \u001b[0mlen\u001b[0m\u001b[0;34m(\u001b[0m\u001b[0muniques\u001b[0m\u001b[0;34m)\u001b[0m \u001b[0;34m>\u001b[0m \u001b[0;36m1\u001b[0m\u001b[0;34m:\u001b[0m\u001b[0;34m\u001b[0m\u001b[0;34m\u001b[0m\u001b[0m\n\u001b[0;32m--> 319\u001b[0;31m         raise ValueError(\"Found input variables with inconsistent numbers of\"\n\u001b[0m\u001b[1;32m    320\u001b[0m                          \" samples: %r\" % [int(l) for l in lengths])\n\u001b[1;32m    321\u001b[0m \u001b[0;34m\u001b[0m\u001b[0m\n",
      "\u001b[0;31mValueError\u001b[0m: Found input variables with inconsistent numbers of samples: [3, 15]"
     ]
    },
    {
     "data": {
      "image/png": "[encoded data removed]",
      "text/plain": [
       "<Figure size 432x288 with 1 Axes>"
      ]
     },
     "metadata": {
      "needs_background": "light"
     },
     "output_type": "display_data"
    }
   ],
   "source": [
    "from sklearn.metrics import confusion_matrix\n",
    "\n",
    "ax = plt.subplot()\n",
    "predict_results = model.predict(normed_test_data)\n",
    "\n",
    "predict_results = predict_results.argmax(axis = 1)\n",
    "\n",
    "cm = confusion_matrix(test_labels1, predict_results)\n",
    "# Labels need to be converted to Numbers \n",
    "sns.heatmap(cm, annot=True, ax = ax); #annot = True to annotate cells\n",
    "\n",
    "# labels, titles and tricks \n",
    "ax.set_xlabel('Predicted labels');ax.set_ylabel('True labels');\n",
    "ax.set_title('Confusion Matrix')"
   ]
  },
  {
   "cell_type": "code",
   "execution_count": null,
   "metadata": {},
   "outputs": [],
   "source": []
  }
 ],
 "metadata": {
  "kernelspec": {
   "display_name": "Python 3",
   "language": "python",
   "name": "python3"
  },
  "language_info": {
   "codemirror_mode": {
    "name": "ipython",
    "version": 3
   },
   "file_extension": ".py",
   "mimetype": "text/x-python",
   "name": "python",
   "nbconvert_exporter": "python",
   "pygments_lexer": "ipython3",
   "version": "3.8.10"
  }
 },
 "nbformat": 4,
 "nbformat_minor": 4
}
